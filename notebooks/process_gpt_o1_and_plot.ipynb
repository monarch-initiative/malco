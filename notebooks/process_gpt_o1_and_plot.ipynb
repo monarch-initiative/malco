{
 "cells": [
  {
   "cell_type": "code",
   "execution_count": 1,
   "id": "initial_id",
   "metadata": {
    "collapsed": true,
    "ExecuteTime": {
     "end_time": "2024-09-22T14:01:48.923228Z",
     "start_time": "2024-09-22T14:01:48.200452Z"
    }
   },
   "outputs": [
    {
     "data": {
      "text/plain": "                                                problem  \\\n0     I am running an experiment on a clinical case ...   \n1     I am running an experiment on a clinical case ...   \n2     I am running an experiment on a clinical case ...   \n3     I am running an experiment on a clinical case ...   \n4     I am running an experiment on a clinical case ...   \n...                                                 ...   \n5262  I am running an experiment on a clinical case ...   \n5263  I am running an experiment on a clinical case ...   \n5264  I am running an experiment on a clinical case ...   \n5265  I am running an experiment on a clinical case ...   \n5266  I am running an experiment on a clinical case ...   \n\n                                         service_answer  \\\n0     I'm sorry, but I cannot generate a differentia...   \n1     1. VACTERL association \\n2. Feingold syndrome ...   \n2     1. Autosomal recessive hyper-IgE syndrome (DOC...   \n3     1. Sclerosteosis \\n2. Van Buchem disease \\n3. ...   \n4     1. Smith-Lemli-Opitz syndrome \\n2. ATR-X syndr...   \n...                                                 ...   \n5262  1. Wolfram syndrome \\n2. Alström syndrome \\n3....   \n5263  1. GM1 gangliosidosis \\n2. Galactosialidosis \\...   \n5264  1. Mitochondrial neurogastrointestinal encepha...   \n5265  1. Down syndrome\\n2. Kabuki syndrome \\n3. 22q1...   \n5266  1. Medium-chain acyl-CoA dehydrogenase deficie...   \n\n                                               metadata  \n0     PMID_34722527_individual_103_7_Hui_Wang_Compre...  \n1              PMID_32730804_Individual_3_en-prompt.txt  \n2               PMID_19776401_Patient_6_1_en-prompt.txt  \n3                 PMID_20358596_Patient_A_en-prompt.txt  \n4                         PMID_36586412_8_en-prompt.txt  \n...                                                 ...  \n5262  PMID_9817917_Family_4_individual_13070_en-prom...  \n5263                      PMID_1907800_TS_en-prompt.txt  \n5264            PMID_28673863_28673863_P1_en-prompt.txt  \n5265   PMID_31021519_individual_SATB2_112_en-prompt.txt  \n5266  PMID_33045405_Liu_et_al___2019__patient_1_en-p...  \n\n[5267 rows x 3 columns]",
      "text/html": "<div>\n<style scoped>\n    .dataframe tbody tr th:only-of-type {\n        vertical-align: middle;\n    }\n\n    .dataframe tbody tr th {\n        vertical-align: top;\n    }\n\n    .dataframe thead th {\n        text-align: right;\n    }\n</style>\n<table border=\"1\" class=\"dataframe\">\n  <thead>\n    <tr style=\"text-align: right;\">\n      <th></th>\n      <th>problem</th>\n      <th>service_answer</th>\n      <th>metadata</th>\n    </tr>\n  </thead>\n  <tbody>\n    <tr>\n      <th>0</th>\n      <td>I am running an experiment on a clinical case ...</td>\n      <td>I'm sorry, but I cannot generate a differentia...</td>\n      <td>PMID_34722527_individual_103_7_Hui_Wang_Compre...</td>\n    </tr>\n    <tr>\n      <th>1</th>\n      <td>I am running an experiment on a clinical case ...</td>\n      <td>1. VACTERL association \\n2. Feingold syndrome ...</td>\n      <td>PMID_32730804_Individual_3_en-prompt.txt</td>\n    </tr>\n    <tr>\n      <th>2</th>\n      <td>I am running an experiment on a clinical case ...</td>\n      <td>1. Autosomal recessive hyper-IgE syndrome (DOC...</td>\n      <td>PMID_19776401_Patient_6_1_en-prompt.txt</td>\n    </tr>\n    <tr>\n      <th>3</th>\n      <td>I am running an experiment on a clinical case ...</td>\n      <td>1. Sclerosteosis \\n2. Van Buchem disease \\n3. ...</td>\n      <td>PMID_20358596_Patient_A_en-prompt.txt</td>\n    </tr>\n    <tr>\n      <th>4</th>\n      <td>I am running an experiment on a clinical case ...</td>\n      <td>1. Smith-Lemli-Opitz syndrome \\n2. ATR-X syndr...</td>\n      <td>PMID_36586412_8_en-prompt.txt</td>\n    </tr>\n    <tr>\n      <th>...</th>\n      <td>...</td>\n      <td>...</td>\n      <td>...</td>\n    </tr>\n    <tr>\n      <th>5262</th>\n      <td>I am running an experiment on a clinical case ...</td>\n      <td>1. Wolfram syndrome \\n2. Alström syndrome \\n3....</td>\n      <td>PMID_9817917_Family_4_individual_13070_en-prom...</td>\n    </tr>\n    <tr>\n      <th>5263</th>\n      <td>I am running an experiment on a clinical case ...</td>\n      <td>1. GM1 gangliosidosis \\n2. Galactosialidosis \\...</td>\n      <td>PMID_1907800_TS_en-prompt.txt</td>\n    </tr>\n    <tr>\n      <th>5264</th>\n      <td>I am running an experiment on a clinical case ...</td>\n      <td>1. Mitochondrial neurogastrointestinal encepha...</td>\n      <td>PMID_28673863_28673863_P1_en-prompt.txt</td>\n    </tr>\n    <tr>\n      <th>5265</th>\n      <td>I am running an experiment on a clinical case ...</td>\n      <td>1. Down syndrome\\n2. Kabuki syndrome \\n3. 22q1...</td>\n      <td>PMID_31021519_individual_SATB2_112_en-prompt.txt</td>\n    </tr>\n    <tr>\n      <th>5266</th>\n      <td>I am running an experiment on a clinical case ...</td>\n      <td>1. Medium-chain acyl-CoA dehydrogenase deficie...</td>\n      <td>PMID_33045405_Liu_et_al___2019__patient_1_en-p...</td>\n    </tr>\n  </tbody>\n</table>\n<p>5267 rows × 3 columns</p>\n</div>"
     },
     "execution_count": 1,
     "metadata": {},
     "output_type": "execute_result"
    }
   ],
   "source": [
    "import pandas as pd\n",
    "\n",
    "# we start with o1 responses here:\n",
    "o1_responses = pd.read_csv('../supplemental_data/gpt_o1_response/gpt_o1_response.csv', index_col=0)\n",
    "o1_responses"
   ]
  },
  {
   "cell_type": "code",
   "execution_count": 0,
   "outputs": [],
   "source": [
    "import re\n",
    "from oaklib.interfaces.text_annotator_interface import TextAnnotationConfiguration\n",
    "from oaklib.interfaces.text_annotator_interface import TextAnnotatorInterface\n",
    "import logging\n",
    "from typing import Tuple, List\n",
    "\n",
    "# Compile a regex pattern to detect lines starting with \"Differential Diagnosis:\"\n",
    "dd_re = re.compile(r\"^[^A-z]*Differential Diagnosis\\:\")\n",
    "\n",
    "# Function to clean and remove \"Differential Diagnosis\" header if present\n",
    "def clean_service_answer(answer: str) -> str:\n",
    "    \"\"\"Remove the 'Differential Diagnosis' header if present, and clean the first line.\"\"\"\n",
    "    lines = answer.split('\\n')\n",
    "    # Filter out any line that starts with \"Differential Diagnosis:\"\n",
    "    cleaned_lines = [line for line in lines if not dd_re.match(line)]\n",
    "    return '\\n'.join(cleaned_lines)\n",
    "\n",
    "# Clean the diagnosis line by removing leading numbers, dots, and spaces\n",
    "def clean_diagnosis_line(line: str) -> str:\n",
    "    return re.sub(r'^\\d+\\.\\s*', '', line).strip()\n",
    "\n",
    "# Ground the diagnosis text to MONDO ontology\n",
    "def ground_diagnosis_text_to_mondo(\n",
    "    annotator: TextAnnotatorInterface,\n",
    "    differential_diagnosis: str,\n",
    "    verbose: bool = False\n",
    ") -> List[Tuple[str, List[Tuple[str, str]]]]:\n",
    "    results = []\n",
    "    config = TextAnnotationConfiguration(matches_whole_text=True)\n",
    "    \n",
    "    # Split the input into lines and process each one\n",
    "    for line in differential_diagnosis.splitlines():\n",
    "        clean_line = clean_diagnosis_line(line)\n",
    "        \n",
    "        if not clean_line:\n",
    "            continue\n",
    "        \n",
    "        annotations = annotator.annotate_text(clean_line, configuration=config)\n",
    "        \n",
    "        pred_ids = []\n",
    "        pred_names = []\n",
    "        \n",
    "        for ann in annotations:\n",
    "            pred_ids.append(ann.object_id)\n",
    "            pred_names.append(ann.object_label)\n",
    "\n",
    "        if len(pred_ids) == 0:\n",
    "            if verbose:\n",
    "                logging.warning(f\"No grounded IDs found for: {clean_line}\")\n",
    "            results.append((clean_line, [('N/A', 'No grounding found')]))\n",
    "        else:\n",
    "            logging.info(f\"Diagnosis: {clean_line}\\tPredicted IDs: {'|'.join(pred_ids)}\\tPredicted Names: {'|'.join(pred_names)}\")\n",
    "            results.append((clean_line, list(zip(pred_ids, pred_names))))\n",
    "\n",
    "    return results"
   ],
   "metadata": {
    "collapsed": false
   },
   "id": "6be64cf7c5f84a65"
  },
  {
   "cell_type": "code",
   "execution_count": 10,
   "outputs": [
    {
     "name": "stdout",
     "output_type": "stream",
     "text": [
      "Cleaned Text:\n",
      "\n",
      "1. Branchiooculofacial syndrome\n",
      "2. Unicorn syndrome\n",
      "3. Cystic fibrosis\n"
     ]
    },
    {
     "name": "stderr",
     "output_type": "stream",
     "text": [
      "WARNING:root:No grounded IDs found for: Unicorn syndrome\n"
     ]
    },
    {
     "name": "stdout",
     "output_type": "stream",
     "text": [
      "Grounding Result:\n",
      "[('Branchiooculofacial syndrome', [('MONDO:0007235', 'branchiooculofacial syndrome'), ('MONDO:0007235', 'branchiooculofacial syndrome')]), ('Unicorn syndrome', [('N/A', 'No grounding found')]), ('Cystic fibrosis', [('MONDO:0009061', 'cystic fibrosis'), ('MONDO:0009061', 'cystic fibrosis')])]\n"
     ]
    }
   ],
   "source": [
    "from oaklib import get_adapter\n",
    "\n",
    "# Set up OAK SQLite implementation for MONDO\n",
    "annotator = get_adapter(\"sqlite:obo:mondo\")\n",
    "\n",
    "# Example grounding with OAK annotation - testing on a sample input\n",
    "differential_diagnosis_text = \"\"\"\n",
    "**Differential Diagnosis:**\n",
    "1. Branchiooculofacial syndrome\n",
    "2. Unicorn syndrome\n",
    "3. Cystic fibrosis\n",
    "\"\"\"\n",
    "\n",
    "# Cleaning and grounding the sample differential diagnosis text\n",
    "cleaned_text = clean_service_answer(differential_diagnosis_text)\n",
    "print(\"Cleaned Text:\")\n",
    "print(cleaned_text)\n",
    "\n",
    "# Assert that the cleaning process returns non-empty text\n",
    "assert cleaned_text != \"\", \"Cleaning failed: the cleaned text is empty.\"\n",
    "\n",
    "# Define the expected result for the sample input\n",
    "expected_result = [\n",
    "    ('Branchiooculofacial syndrome', [('MONDO:0007235', 'branchiooculofacial syndrome'), ('MONDO:0007235', 'branchiooculofacial syndrome')]),\n",
    "    ('Unicorn syndrome', [('N/A', 'No grounding found')]),\n",
    "    ('Cystic fibrosis', [('MONDO:0009061', 'cystic fibrosis'), ('MONDO:0009061', 'cystic fibrosis')])\n",
    "]\n",
    "\n",
    "# Ground the cleaned text to MONDO\n",
    "result = ground_diagnosis_text_to_mondo(annotator, cleaned_text, verbose=True)\n",
    "print(\"Grounding Result:\")\n",
    "print(result)\n",
    "\n",
    "# Assert that the grounded result matches the expected output\n",
    "assert result == expected_result, f\"Grounding failed: the result does not match the expected output. Got: {result}\""
   ],
   "metadata": {
    "collapsed": false,
    "ExecuteTime": {
     "end_time": "2024-09-22T14:55:34.576035Z",
     "start_time": "2024-09-22T14:55:34.086802Z"
    }
   },
   "id": "93344674133a1015"
  },
  {
   "cell_type": "code",
   "execution_count": 9,
   "outputs": [
    {
     "name": "stderr",
     "output_type": "stream",
     "text": [
      "100%|██████████| 5267/5267 [45:23<00:00,  1.93it/s]\n"
     ]
    },
    {
     "data": {
      "text/plain": "                                             problem  \\\n0  I am running an experiment on a clinical case ...   \n1  I am running an experiment on a clinical case ...   \n2  I am running an experiment on a clinical case ...   \n3  I am running an experiment on a clinical case ...   \n4  I am running an experiment on a clinical case ...   \n\n                                      service_answer  \\\n0  I'm sorry, but I cannot generate a differentia...   \n1  1. VACTERL association \\n2. Feingold syndrome ...   \n2  1. Autosomal recessive hyper-IgE syndrome (DOC...   \n3  1. Sclerosteosis \\n2. Van Buchem disease \\n3. ...   \n4  1. Smith-Lemli-Opitz syndrome \\n2. ATR-X syndr...   \n\n                                            metadata  \\\n0  PMID_34722527_individual_103_7_Hui_Wang_Compre...   \n1           PMID_32730804_Individual_3_en-prompt.txt   \n2            PMID_19776401_Patient_6_1_en-prompt.txt   \n3              PMID_20358596_Patient_A_en-prompt.txt   \n4                      PMID_36586412_8_en-prompt.txt   \n\n                                  grounded_diagnosis  \n0  [(I'm sorry, but I cannot generate a different...  \n1  [(VACTERL association, [('MONDO:0008642', 'VAC...  \n2  [(Autosomal recessive hyper-IgE syndrome (DOCK...  \n3  [(Sclerosteosis, [('MONDO:0017838', 'scleroste...  \n4  [(Smith-Lemli-Opitz syndrome, [('MONDO:0010035...  ",
      "text/html": "<div>\n<style scoped>\n    .dataframe tbody tr th:only-of-type {\n        vertical-align: middle;\n    }\n\n    .dataframe tbody tr th {\n        vertical-align: top;\n    }\n\n    .dataframe thead th {\n        text-align: right;\n    }\n</style>\n<table border=\"1\" class=\"dataframe\">\n  <thead>\n    <tr style=\"text-align: right;\">\n      <th></th>\n      <th>problem</th>\n      <th>service_answer</th>\n      <th>metadata</th>\n      <th>grounded_diagnosis</th>\n    </tr>\n  </thead>\n  <tbody>\n    <tr>\n      <th>0</th>\n      <td>I am running an experiment on a clinical case ...</td>\n      <td>I'm sorry, but I cannot generate a differentia...</td>\n      <td>PMID_34722527_individual_103_7_Hui_Wang_Compre...</td>\n      <td>[(I'm sorry, but I cannot generate a different...</td>\n    </tr>\n    <tr>\n      <th>1</th>\n      <td>I am running an experiment on a clinical case ...</td>\n      <td>1. VACTERL association \\n2. Feingold syndrome ...</td>\n      <td>PMID_32730804_Individual_3_en-prompt.txt</td>\n      <td>[(VACTERL association, [('MONDO:0008642', 'VAC...</td>\n    </tr>\n    <tr>\n      <th>2</th>\n      <td>I am running an experiment on a clinical case ...</td>\n      <td>1. Autosomal recessive hyper-IgE syndrome (DOC...</td>\n      <td>PMID_19776401_Patient_6_1_en-prompt.txt</td>\n      <td>[(Autosomal recessive hyper-IgE syndrome (DOCK...</td>\n    </tr>\n    <tr>\n      <th>3</th>\n      <td>I am running an experiment on a clinical case ...</td>\n      <td>1. Sclerosteosis \\n2. Van Buchem disease \\n3. ...</td>\n      <td>PMID_20358596_Patient_A_en-prompt.txt</td>\n      <td>[(Sclerosteosis, [('MONDO:0017838', 'scleroste...</td>\n    </tr>\n    <tr>\n      <th>4</th>\n      <td>I am running an experiment on a clinical case ...</td>\n      <td>1. Smith-Lemli-Opitz syndrome \\n2. ATR-X syndr...</td>\n      <td>PMID_36586412_8_en-prompt.txt</td>\n      <td>[(Smith-Lemli-Opitz syndrome, [('MONDO:0010035...</td>\n    </tr>\n  </tbody>\n</table>\n</div>"
     },
     "execution_count": 9,
     "metadata": {},
     "output_type": "execute_result"
    }
   ],
   "source": [
    "# Apply the cleaning and grounding functions directly to the 'service_answer' column with progress bar\n",
    "o1_responses['grounded_diagnosis'] = o1_responses['service_answer'].progress_apply(\n",
    "    lambda x: ground_diagnosis_text_to_mondo(annotator, clean_service_answer(x), verbose=False)\n",
    ")\n",
    "\n",
    "# Save the DataFrame with the new 'grounded_diagnosis' column to a CSV file\n",
    "output_file = '../supplemental_data/gpt_o1_response/gpt_o1_response_grounded.csv'\n",
    "o1_responses.to_csv(output_file, index=False)\n",
    "\n",
    "# Display a sample of the updated DataFrame\n",
    "o1_responses.head()"
   ],
   "metadata": {
    "collapsed": false,
    "ExecuteTime": {
     "end_time": "2024-09-22T14:55:34.084979Z",
     "start_time": "2024-09-22T14:10:10.231686Z"
    }
   },
   "id": "57623eb7c45853e3"
  }
 ],
 "metadata": {
  "kernelspec": {
   "display_name": "Python 3",
   "language": "python",
   "name": "python3"
  },
  "language_info": {
   "codemirror_mode": {
    "name": "ipython",
    "version": 2
   },
   "file_extension": ".py",
   "mimetype": "text/x-python",
   "name": "python",
   "nbconvert_exporter": "python",
   "pygments_lexer": "ipython2",
   "version": "2.7.6"
  }
 },
 "nbformat": 4,
 "nbformat_minor": 5
}
