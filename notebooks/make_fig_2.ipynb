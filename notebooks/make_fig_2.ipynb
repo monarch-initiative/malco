{
 "cells": [
  {
   "cell_type": "code",
   "execution_count": 1,
   "outputs": [
    {
     "name": "stdout",
     "output_type": "stream",
     "text": [
      "Figure(1200x600)\r\n"
     ]
    }
   ],
   "source": [
    "!python ../src//malco/post_process/make_hits_at_n_plot.py ../outputdir_text_mined_2024_07_02/plots/topn_result.tsv ../outputdir_all_2024_07_04/plots/topn_result.tsv"
   ],
   "metadata": {
    "collapsed": false,
    "ExecuteTime": {
     "end_time": "2024-07-08T16:24:10.034439Z",
     "start_time": "2024-07-08T16:24:05.965537Z"
    }
   },
   "id": "ac418ee1d2c5a97d"
  },
  {
   "cell_type": "code",
   "execution_count": null,
   "outputs": [],
   "source": [],
   "metadata": {
    "collapsed": false
   },
   "id": "c39081879d5dd98f"
  }
 ],
 "metadata": {
  "kernelspec": {
   "display_name": "Python 3",
   "language": "python",
   "name": "python3"
  },
  "language_info": {
   "codemirror_mode": {
    "name": "ipython",
    "version": 2
   },
   "file_extension": ".py",
   "mimetype": "text/x-python",
   "name": "python",
   "nbconvert_exporter": "python",
   "pygments_lexer": "ipython2",
   "version": "2.7.6"
  }
 },
 "nbformat": 4,
 "nbformat_minor": 5
}
