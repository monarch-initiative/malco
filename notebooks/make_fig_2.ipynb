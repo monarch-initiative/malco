{
 "cells": [
  {
   "cell_type": "code",
   "execution_count": 1,
   "outputs": [
    {
     "name": "stdout",
     "output_type": "stream",
     "text": [
      "Figure(1200x600)\r\n"
     ]
    }
   ],
   "source": [
    "!python ../src//malco/post_process/make_hits_at_n_plot.py ../outputdir_text_mined_2024_07_02/plots/topn_result.tsv ../outputdir_all_2024_07_04/plots/topn_result.tsv"
   ],
   "metadata": {
    "collapsed": false,
    "ExecuteTime": {
     "end_time": "2024-07-08T16:24:10.034439Z",
     "start_time": "2024-07-08T16:24:05.965537Z"
    }
   },
   "id": "ac418ee1d2c5a97d"
  },
  {
   "cell_type": "code",
   "execution_count": 10,
   "outputs": [
    {
     "data": {
      "text/plain": "                                            filename  Percent within 1 rank  \\\n0  ../outputdir_all_2024_07_04/plots/topn_result.tsv                   19.2   \n1  ../outputdir_text_mined_2024_07_02/plots/topn_...                   23.0   \n\n   Percent within 3 ranks  Percent within 10 ranks  \n0                    28.6                     32.5  \n1                    42.6                     52.5  ",
      "text/html": "<div>\n<style scoped>\n    .dataframe tbody tr th:only-of-type {\n        vertical-align: middle;\n    }\n\n    .dataframe tbody tr th {\n        vertical-align: top;\n    }\n\n    .dataframe thead th {\n        text-align: right;\n    }\n</style>\n<table border=\"1\" class=\"dataframe\">\n  <thead>\n    <tr style=\"text-align: right;\">\n      <th></th>\n      <th>filename</th>\n      <th>Percent within 1 rank</th>\n      <th>Percent within 3 ranks</th>\n      <th>Percent within 10 ranks</th>\n    </tr>\n  </thead>\n  <tbody>\n    <tr>\n      <th>0</th>\n      <td>../outputdir_all_2024_07_04/plots/topn_result.tsv</td>\n      <td>19.2</td>\n      <td>28.6</td>\n      <td>32.5</td>\n    </tr>\n    <tr>\n      <th>1</th>\n      <td>../outputdir_text_mined_2024_07_02/plots/topn_...</td>\n      <td>23.0</td>\n      <td>42.6</td>\n      <td>52.5</td>\n    </tr>\n  </tbody>\n</table>\n</div>"
     },
     "execution_count": 10,
     "metadata": {},
     "output_type": "execute_result"
    }
   ],
   "source": [
    "import pandas as pd\n",
    "import numpy as np\n",
    "\n",
    "def calculate_rank_percentages(filename):\n",
    "    # Read the data into a pandas DataFrame\n",
    "    df = pd.read_csv(filename, sep='\\t')\n",
    "\n",
    "    # Calculate the total number of cases as the sum of all ranks and nf\n",
    "    total_cases = df.iloc[0, 1:].sum()\n",
    "\n",
    "    # Calculate the sum of n1, n2, and n3 for the first 1, 3, and 10 ranks\n",
    "    within_1_rank = df['n1'].sum()\n",
    "    within_3_ranks = df[['n1', 'n2', 'n3']].sum(axis=1).iloc[0]\n",
    "    within_10_ranks = df[['n1', 'n2', 'n3', 'n4', 'n5', 'n6', 'n7', 'n8', 'n9', 'n10']].sum(axis=1).iloc[0]\n",
    "\n",
    "    # Calculate the percentages\n",
    "    percent_within_1_rank = (within_1_rank / total_cases) * 100\n",
    "    percent_within_3_ranks = (within_3_ranks / total_cases) * 100\n",
    "    percent_within_10_ranks = (within_10_ranks / total_cases) * 100\n",
    "\n",
    "    # Truncate percentages to 3 significant digits\n",
    "    percent_within_1_rank = np.round(percent_within_1_rank, 1)\n",
    "    percent_within_3_ranks = np.round(percent_within_3_ranks, 1)\n",
    "    percent_within_10_ranks = np.round(percent_within_10_ranks, 1)\n",
    "\n",
    "    # Return the results as a dictionary\n",
    "    return {\n",
    "        \"filename\": filename,\n",
    "        \"Percent within 1 rank\": percent_within_1_rank,\n",
    "        \"Percent within 3 ranks\": percent_within_3_ranks,\n",
    "        \"Percent within 10 ranks\": percent_within_10_ranks\n",
    "    }\n",
    "\n",
    "def process_files(file_list):\n",
    "    results = []\n",
    "    for file in file_list:\n",
    "        result = calculate_rank_percentages(file)\n",
    "        results.append(result)\n",
    "    \n",
    "    # Convert the results list to a DataFrame for better display\n",
    "    results_df = pd.DataFrame(results)\n",
    "    return results_df\n",
    "\n",
    "# List of files to process\n",
    "file_list = [\"../outputdir_all_2024_07_04/plots/topn_result.tsv\",\n",
    "             \"../outputdir_text_mined_2024_07_02/plots/topn_result.tsv\"]  # Replace with your actual file names\n",
    "\n",
    "# Process the files and display the results\n",
    "results_df = process_files(file_list)\n",
    "\n",
    "# Display the DataFrame\n",
    "results_df"
   ],
   "metadata": {
    "collapsed": false,
    "ExecuteTime": {
     "end_time": "2024-07-10T12:18:31.322737Z",
     "start_time": "2024-07-10T12:18:31.307636Z"
    }
   },
   "id": "c39081879d5dd98f"
  },
  {
   "cell_type": "code",
   "execution_count": null,
   "outputs": [],
   "source": [],
   "metadata": {
    "collapsed": false
   },
   "id": "275980cc2d4f350e"
  }
 ],
 "metadata": {
  "kernelspec": {
   "display_name": "Python 3",
   "language": "python",
   "name": "python3"
  },
  "language_info": {
   "codemirror_mode": {
    "name": "ipython",
    "version": 2
   },
   "file_extension": ".py",
   "mimetype": "text/x-python",
   "name": "python",
   "nbconvert_exporter": "python",
   "pygments_lexer": "ipython2",
   "version": "2.7.6"
  }
 },
 "nbformat": 4,
 "nbformat_minor": 5
}
