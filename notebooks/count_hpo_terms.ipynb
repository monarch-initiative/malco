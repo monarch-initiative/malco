{
 "cells": [
  {
   "cell_type": "code",
   "execution_count": 1,
   "id": "initial_id",
   "metadata": {
    "collapsed": true,
    "ExecuteTime": {
     "end_time": "2024-07-08T13:54:43.095114Z",
     "start_time": "2024-07-08T13:54:39.994855Z"
    }
   },
   "outputs": [
    {
     "name": "stdout",
     "output_type": "stream",
     "text": [
      "Total number of unique phenotypic feature IDs: 2975\n",
      "Average number of phenotypic features per case: 15.99\n"
     ]
    }
   ],
   "source": [
    "import os\n",
    "import json\n",
    "import glob\n",
    "import pandas as pd\n",
    "\n",
    "# Define the directory containing the phenopacket JSON files\n",
    "directory = '../data/all/prompts/original_phenopackets/'  # Change this to your directory path\n",
    "\n",
    "# Initialize a list to store the phenotypic feature IDs\n",
    "all_ids = []\n",
    "\n",
    "# Initialize a counter for the total number of phenopacket files\n",
    "total_cases = 0\n",
    "\n",
    "# Loop through each JSON file in the directory\n",
    "for filepath in glob.glob(os.path.join(directory, '*.json')):\n",
    "    with open(filepath, 'r') as file:\n",
    "        data = json.load(file)\n",
    "        # Extract the phenotypic feature IDs\n",
    "        phenotypic_features = data.get('phenotypicFeatures', [])\n",
    "        for feature in phenotypic_features:\n",
    "            feature_id = feature['type']['id']\n",
    "            all_ids.append(feature_id)\n",
    "        total_cases += 1\n",
    "\n",
    "# Create a DataFrame from the list of all IDs\n",
    "df = pd.DataFrame(all_ids, columns=['PhenotypicFeatureID'])\n",
    "\n",
    "# Count the total number of unique IDs\n",
    "unique_ids_count = df['PhenotypicFeatureID'].nunique()\n",
    "\n",
    "# Calculate the average number of phenotypic features per case\n",
    "average_features_per_case = len(all_ids) / total_cases if total_cases > 0 else 0\n",
    "\n",
    "# Display the results\n",
    "print(f\"Total number of unique phenotypic feature IDs: {unique_ids_count}\")\n",
    "print(f\"Average number of phenotypic features per case: {average_features_per_case:.2f}\")\n",
    "\n",
    "# Optionally display the DataFrame with unique phenotypic feature IDs\n",
    "unique_ids = df\n"
   ]
  },
  {
   "cell_type": "code",
   "execution_count": null,
   "outputs": [],
   "source": [],
   "metadata": {
    "collapsed": false
   },
   "id": "db17ff9871fce180"
  }
 ],
 "metadata": {
  "kernelspec": {
   "display_name": "Python 3",
   "language": "python",
   "name": "python3"
  },
  "language_info": {
   "codemirror_mode": {
    "name": "ipython",
    "version": 2
   },
   "file_extension": ".py",
   "mimetype": "text/x-python",
   "name": "python",
   "nbconvert_exporter": "python",
   "pygments_lexer": "ipython2",
   "version": "2.7.6"
  }
 },
 "nbformat": 4,
 "nbformat_minor": 5
}
