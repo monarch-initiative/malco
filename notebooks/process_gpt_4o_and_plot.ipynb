{
 "cells": [
  {
   "cell_type": "code",
   "execution_count": 1,
   "id": "initial_id",
   "metadata": {
    "collapsed": true,
    "ExecuteTime": {
     "end_time": "2024-09-30T20:11:09.839932Z",
     "start_time": "2024-09-30T20:11:05.785009Z"
    }
   },
   "outputs": [
    {
     "data": {
      "text/plain": "                                                problem  \\\n0     I am running an experiment on a clinical case ...   \n1     I am running an experiment on a clinical case ...   \n2     I am running an experiment on a clinical case ...   \n3     I am running an experiment on a clinical case ...   \n4     I am running an experiment on a clinical case ...   \n...                                                 ...   \n5262  I am running an experiment on a clinical case ...   \n5263  I am running an experiment on a clinical case ...   \n5264  I am running an experiment on a clinical case ...   \n5265  I am running an experiment on a clinical case ...   \n5266  I am running an experiment on a clinical case ...   \n\n                                         service_answer  \\\n0     I'm sorry, but I cannot generate a differentia...   \n1     1. VACTERL association \\n2. Feingold syndrome ...   \n2     1. Autosomal recessive hyper-IgE syndrome (DOC...   \n3     1. Sclerosteosis \\n2. Van Buchem disease \\n3. ...   \n4     1. Smith-Lemli-Opitz syndrome \\n2. ATR-X syndr...   \n...                                                 ...   \n5262  1. Wolfram syndrome \\n2. Alström syndrome \\n3....   \n5263  1. GM1 gangliosidosis \\n2. Galactosialidosis \\...   \n5264  1. Mitochondrial neurogastrointestinal encepha...   \n5265  1. Down syndrome\\n2. Kabuki syndrome \\n3. 22q1...   \n5266  1. Medium-chain acyl-CoA dehydrogenase deficie...   \n\n                                               metadata  \n0     PMID_34722527_individual_103_7_Hui_Wang_Compre...  \n1              PMID_32730804_Individual_3_en-prompt.txt  \n2               PMID_19776401_Patient_6_1_en-prompt.txt  \n3                 PMID_20358596_Patient_A_en-prompt.txt  \n4                         PMID_36586412_8_en-prompt.txt  \n...                                                 ...  \n5262  PMID_9817917_Family_4_individual_13070_en-prom...  \n5263                      PMID_1907800_TS_en-prompt.txt  \n5264            PMID_28673863_28673863_P1_en-prompt.txt  \n5265   PMID_31021519_individual_SATB2_112_en-prompt.txt  \n5266  PMID_33045405_Liu_et_al___2019__patient_1_en-p...  \n\n[5267 rows x 3 columns]",
      "text/html": "<div>\n<style scoped>\n    .dataframe tbody tr th:only-of-type {\n        vertical-align: middle;\n    }\n\n    .dataframe tbody tr th {\n        vertical-align: top;\n    }\n\n    .dataframe thead th {\n        text-align: right;\n    }\n</style>\n<table border=\"1\" class=\"dataframe\">\n  <thead>\n    <tr style=\"text-align: right;\">\n      <th></th>\n      <th>problem</th>\n      <th>service_answer</th>\n      <th>metadata</th>\n    </tr>\n  </thead>\n  <tbody>\n    <tr>\n      <th>0</th>\n      <td>I am running an experiment on a clinical case ...</td>\n      <td>I'm sorry, but I cannot generate a differentia...</td>\n      <td>PMID_34722527_individual_103_7_Hui_Wang_Compre...</td>\n    </tr>\n    <tr>\n      <th>1</th>\n      <td>I am running an experiment on a clinical case ...</td>\n      <td>1. VACTERL association \\n2. Feingold syndrome ...</td>\n      <td>PMID_32730804_Individual_3_en-prompt.txt</td>\n    </tr>\n    <tr>\n      <th>2</th>\n      <td>I am running an experiment on a clinical case ...</td>\n      <td>1. Autosomal recessive hyper-IgE syndrome (DOC...</td>\n      <td>PMID_19776401_Patient_6_1_en-prompt.txt</td>\n    </tr>\n    <tr>\n      <th>3</th>\n      <td>I am running an experiment on a clinical case ...</td>\n      <td>1. Sclerosteosis \\n2. Van Buchem disease \\n3. ...</td>\n      <td>PMID_20358596_Patient_A_en-prompt.txt</td>\n    </tr>\n    <tr>\n      <th>4</th>\n      <td>I am running an experiment on a clinical case ...</td>\n      <td>1. Smith-Lemli-Opitz syndrome \\n2. ATR-X syndr...</td>\n      <td>PMID_36586412_8_en-prompt.txt</td>\n    </tr>\n    <tr>\n      <th>...</th>\n      <td>...</td>\n      <td>...</td>\n      <td>...</td>\n    </tr>\n    <tr>\n      <th>5262</th>\n      <td>I am running an experiment on a clinical case ...</td>\n      <td>1. Wolfram syndrome \\n2. Alström syndrome \\n3....</td>\n      <td>PMID_9817917_Family_4_individual_13070_en-prom...</td>\n    </tr>\n    <tr>\n      <th>5263</th>\n      <td>I am running an experiment on a clinical case ...</td>\n      <td>1. GM1 gangliosidosis \\n2. Galactosialidosis \\...</td>\n      <td>PMID_1907800_TS_en-prompt.txt</td>\n    </tr>\n    <tr>\n      <th>5264</th>\n      <td>I am running an experiment on a clinical case ...</td>\n      <td>1. Mitochondrial neurogastrointestinal encepha...</td>\n      <td>PMID_28673863_28673863_P1_en-prompt.txt</td>\n    </tr>\n    <tr>\n      <th>5265</th>\n      <td>I am running an experiment on a clinical case ...</td>\n      <td>1. Down syndrome\\n2. Kabuki syndrome \\n3. 22q1...</td>\n      <td>PMID_31021519_individual_SATB2_112_en-prompt.txt</td>\n    </tr>\n    <tr>\n      <th>5266</th>\n      <td>I am running an experiment on a clinical case ...</td>\n      <td>1. Medium-chain acyl-CoA dehydrogenase deficie...</td>\n      <td>PMID_33045405_Liu_et_al___2019__patient_1_en-p...</td>\n    </tr>\n  </tbody>\n</table>\n<p>5267 rows × 3 columns</p>\n</div>"
     },
     "execution_count": 1,
     "metadata": {},
     "output_type": "execute_result"
    }
   ],
   "source": [
    "import pandas as pd\n",
    "\n",
    "# we start with o1 responses here:\n",
    "o1_responses = pd.read_csv('../supplemental_data/gpt_o1_response/gpt_o1_response.csv', index_col=0)\n",
    "o1_responses"
   ]
  },
  {
   "cell_type": "code",
   "execution_count": null,
   "outputs": [
    {
     "name": "stderr",
     "output_type": "stream",
     "text": [
      "  3%|▎         | 154/5267 [03:13<2:18:36,  1.63s/it]"
     ]
    }
   ],
   "source": [
    "# run GPT-4o and put in ../supplemental_data/gpt_o1_response/gpt_4o_response.csv\n",
    "# should look like this:\n",
    "# problem\tservice_answer\tmetadata\n",
    "# \"The patient was []\"  response\tPMID_32730804_Individual_3_en-prompt.txt\n",
    "\n",
    "import os\n",
    "import pandas as pd\n",
    "import time  # for adding a delay between retries\n",
    "from tqdm import tqdm\n",
    "from openai import OpenAI\n",
    "\n",
    "# read key file ~/openai.key\n",
    "with open(os.path.expanduser('~/openai.key'), 'r') as f:\n",
    "    os.environ['OPENAI_API_KEY'] = f.read().strip()\n",
    "\n",
    "# Initialize the client\n",
    "client = OpenAI(api_key=os.environ['OPENAI_API_KEY'])\n",
    "\n",
    "# Directory containing the prompt files\n",
    "model = \"gpt-4o\"\n",
    "prompt_dir = \"../supplemental_data/prompts\"\n",
    "output_file = '../supplemental_data/gpt_4o_response/gpt_4o_response.csv'\n",
    "\n",
    "# Number of retries\n",
    "max_retries = 3\n",
    "retry_delay = 5  # seconds between retries\n",
    "\n",
    "# Make output directory if it doesn't exist\n",
    "os.makedirs(os.path.dirname(output_file), exist_ok=True)\n",
    "\n",
    "# Function to call OpenAI's GPT model and get the response with retries\n",
    "def get_gpt_response_with_retries(prompt, model=\"gpt-4\", retries=max_retries):\n",
    "    for attempt in range(retries):\n",
    "        try:\n",
    "            # Update the method according to the new API structure\n",
    "            response = client.chat.completions.create(\n",
    "                model=model,\n",
    "                messages=[{\"role\": \"system\", \"content\": \"You are a helpful assistant.\"},\n",
    "                          {\"role\": \"user\", \"content\": prompt}]\n",
    "            )\n",
    "            # Response is now a Pydantic model, use .choices[0].message.content\n",
    "            return response.choices[0].message.content\n",
    "        except Exception as e:\n",
    "            print(f\"Error on attempt {attempt + 1}/{retries}: {e}\")\n",
    "            if attempt < retries - 1:\n",
    "                time.sleep(retry_delay)  # wait before retrying\n",
    "            else:\n",
    "                return f\"Error after {retries} retries: {e}\"\n",
    "\n",
    "# Create a blank DataFrame with the specified columns\n",
    "o1_responses = pd.DataFrame(columns=[\"problem\", \"service_answer\", \"metadata\"])\n",
    "\n",
    "# List to store new rows\n",
    "new_responses = []\n",
    "\n",
    "# Filter for only .txt files in the directory\n",
    "prompt_files = [f for f in os.listdir(prompt_dir) if f.endswith('.txt')]\n",
    "\n",
    "# tqdm progress bar\n",
    "for prompt_file in tqdm(prompt_files):\n",
    "    prompt_file_path = os.path.join(prompt_dir, prompt_file)\n",
    "\n",
    "    # Read the prompt from the file\n",
    "    with open(prompt_file_path, 'r') as f:\n",
    "        prompt = f.read()\n",
    "\n",
    "    # Get the GPT-4 response with retries\n",
    "    response = get_gpt_response_with_retries(prompt, model=model)\n",
    "\n",
    "    # Extract metadata from the filename (without the path)\n",
    "    metadata = prompt_file\n",
    "\n",
    "    # Append the new row in the correct format\n",
    "    new_responses.append({\n",
    "        \"problem\": prompt,\n",
    "        \"service_answer\": response,\n",
    "        \"metadata\": metadata\n",
    "    })\n",
    "\n",
    "# Convert to DataFrame\n",
    "new_responses_df = pd.DataFrame(new_responses)\n",
    "\n",
    "# Append new data to the existing blank o1_responses\n",
    "o1_responses = pd.concat([o1_responses, new_responses_df], ignore_index=True)\n",
    "\n",
    "# Save to the output CSV file\n",
    "o1_responses.to_csv(output_file, index=False)\n",
    "\n",
    "print(f\"Responses saved to {output_file}\")\n"
   ],
   "metadata": {
    "collapsed": false,
    "is_executing": true,
    "ExecuteTime": {
     "start_time": "2024-09-30T20:31:02.715559Z"
    }
   },
   "id": "6146a5330e680163"
  }
 ],
 "metadata": {
  "kernelspec": {
   "display_name": "Python 3",
   "language": "python",
   "name": "python3"
  },
  "language_info": {
   "codemirror_mode": {
    "name": "ipython",
    "version": 2
   },
   "file_extension": ".py",
   "mimetype": "text/x-python",
   "name": "python",
   "nbconvert_exporter": "python",
   "pygments_lexer": "ipython2",
   "version": "2.7.6"
  }
 },
 "nbformat": 4,
 "nbformat_minor": 5
}
