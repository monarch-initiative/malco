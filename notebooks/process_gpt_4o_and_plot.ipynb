{
 "cells": [
  {
   "cell_type": "code",
   "execution_count": 2,
   "outputs": [],
   "source": [
    "import os\n",
    "import pandas as pd\n",
    "import time  # for adding a delay between retries\n",
    "from tqdm import tqdm\n",
    "from openai import OpenAI\n",
    "\n",
    "# read key file ~/openai.key\n",
    "with open(os.path.expanduser('~/openai.key'), 'r') as f:\n",
    "    os.environ['OPENAI_API_KEY'] = f.read().strip()\n",
    "\n",
    "# Initialize the client\n",
    "client = OpenAI(api_key=os.environ['OPENAI_API_KEY'])\n",
    "\n",
    "# Directory containing the prompt files\n",
    "model = \"gpt-4o\"\n",
    "prompt_dir = \"../supplemental_data/prompts\"\n",
    "output_file = '../supplemental_data/gpt_4o_response/gpt_4o_response.csv'\n",
    "output_grounded_file = '../supplemental_data/gpt_4o_response/gpt_4o_response_grounded.csv'"
   ],
   "metadata": {
    "collapsed": false,
    "ExecuteTime": {
     "end_time": "2024-10-01T12:19:47.941501Z",
     "start_time": "2024-10-01T12:19:47.934445Z"
    }
   },
   "id": "8575b4c9321ac890"
  },
  {
   "cell_type": "markdown",
   "source": [
    "# run GPT-4o and put in ../supplemental_data/gpt_4o_response/gpt_4o_response.csv\n",
    "# should look like this:\n",
    "# problem\tservice_answer\tmetadata\n",
    "# \"The patient was []\"  response\tPMID_32730804_Individual_3_en-prompt.txt"
   ],
   "metadata": {
    "collapsed": false
   },
   "id": "ac775b28df3c56b"
  },
  {
   "cell_type": "code",
   "execution_count": 11,
   "outputs": [
    {
     "name": "stderr",
     "output_type": "stream",
     "text": [
      "100%|██████████| 5267/5267 [1:27:07<00:00,  1.01it/s]  "
     ]
    },
    {
     "name": "stdout",
     "output_type": "stream",
     "text": [
      "Responses saved to ../supplemental_data/gpt_4o_response/gpt_4o_response.csv\n"
     ]
    },
    {
     "name": "stderr",
     "output_type": "stream",
     "text": [
      "\n"
     ]
    }
   ],
   "source": [
    "# Number of retries\n",
    "max_retries = 3\n",
    "retry_delay = 5  # seconds between retries\n",
    "\n",
    "# Make output directory if it doesn't exist\n",
    "os.makedirs(os.path.dirname(output_file), exist_ok=True)\n",
    "\n",
    "# Function to call OpenAI's GPT model and get the response with retries\n",
    "def get_gpt_response_with_retries(prompt, model=\"gpt-4\", retries=max_retries):\n",
    "    for attempt in range(retries):\n",
    "        try:\n",
    "            # Update the method according to the new API structure\n",
    "            response = client.chat.completions.create(\n",
    "                model=model,\n",
    "                messages=[{\"role\": \"system\", \"content\": \"You are a helpful assistant.\"},\n",
    "                          {\"role\": \"user\", \"content\": prompt}]\n",
    "            )\n",
    "            # Response is now a Pydantic model, use .choices[0].message.content\n",
    "            return response.choices[0].message.content\n",
    "        except Exception as e:\n",
    "            print(f\"Error on attempt {attempt + 1}/{retries}: {e}\")\n",
    "            if attempt < retries - 1:\n",
    "                time.sleep(retry_delay)  # wait before retrying\n",
    "            else:\n",
    "                return f\"Error after {retries} retries: {e}\"\n",
    "\n",
    "# see if output file already exists, if so, die\n",
    "if os.path.exists(output_file):\n",
    "    raise FileExistsError(f\"Output file {output_file} already exists, please move or delete it before running this script.\")\n",
    "else:\n",
    "    # Create a blank DataFrame with the specified columns\n",
    "    gpt_4o_responses = pd.DataFrame(columns=[\"problem\", \"service_answer\", \"metadata\"])\n",
    "    \n",
    "    # List to store new rows\n",
    "    new_responses = []\n",
    "    \n",
    "    # Filter for only .txt files in the directory\n",
    "    prompt_files = [f for f in os.listdir(prompt_dir) if f.endswith('.txt')]\n",
    "    \n",
    "    # tqdm progress bar\n",
    "    for prompt_file in tqdm(prompt_files):\n",
    "        prompt_file_path = os.path.join(prompt_dir, prompt_file)\n",
    "    \n",
    "        # Read the prompt from the file\n",
    "        with open(prompt_file_path, 'r') as f:\n",
    "            prompt = f.read()\n",
    "    \n",
    "        # Get the GPT-4 response with retries\n",
    "        response = get_gpt_response_with_retries(prompt, model=model)\n",
    "    \n",
    "        # Extract metadata from the filename (without the path)\n",
    "        metadata = prompt_file\n",
    "    \n",
    "        # Append the new row in the correct format\n",
    "        new_responses.append({\n",
    "            \"problem\": prompt,\n",
    "            \"service_answer\": response,\n",
    "            \"metadata\": metadata\n",
    "        })\n",
    "    \n",
    "    # Convert to DataFrame\n",
    "    new_responses_df = pd.DataFrame(new_responses)\n",
    "    \n",
    "    # Append new data to df\n",
    "    gpt_4o_responses = pd.concat([gpt_4o_responses, new_responses_df], ignore_index=True)\n",
    "    \n",
    "    # Save to the output CSV file\n",
    "    gpt_4o_responses.to_csv(output_file, index=False)\n",
    "\n",
    "    print(f\"Responses saved to {output_file}\")\n"
   ],
   "metadata": {
    "collapsed": false,
    "ExecuteTime": {
     "start_time": "2024-09-30T20:31:02.715559Z"
    }
   },
   "id": "6146a5330e680163"
  },
  {
   "cell_type": "code",
   "execution_count": 3,
   "outputs": [
    {
     "data": {
      "text/plain": "                                                                                       service_answer  \\\nproblem                                                                                                 \nI am running an experiment on a clinical case r...  1. Cystic fibrosis\\n2. Marfan syndrome\\n3. Ehl...   \nI am running an experiment on a clinical case r...  1. VACTERL association\\n2. CHARGE syndrome\\n3....   \nI am running an experiment on a clinical case r...  1. Hyper IgE Syndrome (Job's Syndrome)\\n2. Com...   \nI am running an experiment on a clinical case r...  1. Craniometaphyseal dysplasia\\n2. Crouzon syn...   \nI am running an experiment on a clinical case r...  1. Smith-Lemli-Opitz syndrome\\n2. Fragile X sy...   \n...                                                                                               ...   \nI am running an experiment on a clinical case r...  1. Wolfram Syndrome\\n2. Bardet-Biedl Syndrome\\...   \nI am running an experiment on a clinical case r...  1. GM1 gangliosidosis\\n2. Niemann-Pick disease...   \nI am running an experiment on a clinical case r...  1. Mitochondrial disease\\n2. Leigh syndrome\\n3...   \nI am running an experiment on a clinical case r...  1. Angelman syndrome\\n2. Rett syndrome\\n3. Phe...   \nI am running an experiment on a clinical case r...  1. Medium-chain acyl-CoA dehydrogenase (MCAD) ...   \n\n                                                                                             metadata  \nproblem                                                                                                \nI am running an experiment on a clinical case r...  PMID_34722527_individual_103_7_Hui_Wang_Compre...  \nI am running an experiment on a clinical case r...           PMID_32730804_Individual_3_en-prompt.txt  \nI am running an experiment on a clinical case r...            PMID_19776401_Patient_6_1_en-prompt.txt  \nI am running an experiment on a clinical case r...              PMID_20358596_Patient_A_en-prompt.txt  \nI am running an experiment on a clinical case r...                      PMID_36586412_8_en-prompt.txt  \n...                                                                                               ...  \nI am running an experiment on a clinical case r...  PMID_9817917_Family_4_individual_13070_en-prom...  \nI am running an experiment on a clinical case r...                      PMID_1907800_TS_en-prompt.txt  \nI am running an experiment on a clinical case r...            PMID_28673863_28673863_P1_en-prompt.txt  \nI am running an experiment on a clinical case r...   PMID_31021519_individual_SATB2_112_en-prompt.txt  \nI am running an experiment on a clinical case r...  PMID_33045405_Liu_et_al___2019__patient_1_en-p...  \n\n[5267 rows x 2 columns]",
      "text/html": "<div>\n<style scoped>\n    .dataframe tbody tr th:only-of-type {\n        vertical-align: middle;\n    }\n\n    .dataframe tbody tr th {\n        vertical-align: top;\n    }\n\n    .dataframe thead th {\n        text-align: right;\n    }\n</style>\n<table border=\"1\" class=\"dataframe\">\n  <thead>\n    <tr style=\"text-align: right;\">\n      <th></th>\n      <th>service_answer</th>\n      <th>metadata</th>\n    </tr>\n    <tr>\n      <th>problem</th>\n      <th></th>\n      <th></th>\n    </tr>\n  </thead>\n  <tbody>\n    <tr>\n      <th>I am running an experiment on a clinical case report to see how your diagnoses compare with those of human experts.\\nI am going to give you part of a medical case. In this case, you are “Dr. GPT-4”, an AI language model who is providing\\na diagnosis. Here are some guidelines. First, there is a single definitive diagnosis, and it is a diagnosis that is known\\ntoday to exist in humans. The diagnosis is almost always confirmed by some sort of genetic test, though in rare cases\\nwhen such a test does not exist for a diagnosis the diagnosis can instead be made using validated clinical criteria or\\nvery rarely just confirmed by expert opinion. After you read the case, I want you to give a differential diagnosis with\\na list of candidate diagnoses ranked by probability starting with the most likely candidate. Each candidate should be\\nspecified with disease name. For instance, if the first candidate is Branchiooculofacial syndrome and the second is\\nCystic fibrosis, provide this:\\n\\n1. Branchiooculofacial syndrome\\n2. Cystic fibrosis\\n\\nThis list should provide as many diagnoses as you think are reasonable. You do not need to explain your reasoning,\\njust list the diagnoses. Here is the case:\\n\\nThe proband was an individual. Disease onset was not specified.\\nThe individual was found not to have the following features: Global developmental delay.\\n</th>\n      <td>1. Cystic fibrosis\\n2. Marfan syndrome\\n3. Ehl...</td>\n      <td>PMID_34722527_individual_103_7_Hui_Wang_Compre...</td>\n    </tr>\n    <tr>\n      <th>I am running an experiment on a clinical case report to see how your diagnoses compare with those of human experts.\\nI am going to give you part of a medical case. In this case, you are “Dr. GPT-4”, an AI language model who is providing\\na diagnosis. Here are some guidelines. First, there is a single definitive diagnosis, and it is a diagnosis that is known\\ntoday to exist in humans. The diagnosis is almost always confirmed by some sort of genetic test, though in rare cases\\nwhen such a test does not exist for a diagnosis the diagnosis can instead be made using validated clinical criteria or\\nvery rarely just confirmed by expert opinion. After you read the case, I want you to give a differential diagnosis with\\na list of candidate diagnoses ranked by probability starting with the most likely candidate. Each candidate should be\\nspecified with disease name. For instance, if the first candidate is Branchiooculofacial syndrome and the second is\\nCystic fibrosis, provide this:\\n\\n1. Branchiooculofacial syndrome\\n2. Cystic fibrosis\\n\\nThis list should provide as many diagnoses as you think are reasonable. You do not need to explain your reasoning,\\njust list the diagnoses. Here is the case:\\n\\nThe proband was a 16-year-old adolescent boy. Disease onset occurred when the proband was a newborn.\\nHe presented with Global developmental delay, Delayed speech and language development, Ventricular septal defect, Bicuspid aortic valve, Hypoplastic aortic arch, Unilateral renal agenesis, Tracheoesophageal fistula, Anal atresia, and Tethered cord. However, the following features were excluded: Delayed ability to walk, Seizure, Hypotonia, Hypertonia, Aggressive behavior, Self-injurious behavior, Multicystic kidney dysplasia, Hydronephrosis, Kyphosis, Scoliosis, Hallux valgus, Pectus excavatum, Epicanthus, Obesity, and Meningocele.\\nAs an infant, he presented with Autistic behavior. \\n</th>\n      <td>1. VACTERL association\\n2. CHARGE syndrome\\n3....</td>\n      <td>PMID_32730804_Individual_3_en-prompt.txt</td>\n    </tr>\n    <tr>\n      <th>I am running an experiment on a clinical case report to see how your diagnoses compare with those of human experts.\\nI am going to give you part of a medical case. In this case, you are “Dr. GPT-4”, an AI language model who is providing\\na diagnosis. Here are some guidelines. First, there is a single definitive diagnosis, and it is a diagnosis that is known\\ntoday to exist in humans. The diagnosis is almost always confirmed by some sort of genetic test, though in rare cases\\nwhen such a test does not exist for a diagnosis the diagnosis can instead be made using validated clinical criteria or\\nvery rarely just confirmed by expert opinion. After you read the case, I want you to give a differential diagnosis with\\na list of candidate diagnoses ranked by probability starting with the most likely candidate. Each candidate should be\\nspecified with disease name. For instance, if the first candidate is Branchiooculofacial syndrome and the second is\\nCystic fibrosis, provide this:\\n\\n1. Branchiooculofacial syndrome\\n2. Cystic fibrosis\\n\\nThis list should provide as many diagnoses as you think are reasonable. You do not need to explain your reasoning,\\njust list the diagnoses. Here is the case:\\n\\nThe proband was a 14-year-old adolescent boy. Disease onset was not specified.\\nHe presented with Atopic dermatitis, Recurrent lower respiratory tract infections, Recurrent upper respiratory tract infections, Seafood allergy, Egg allergy, Nut food product allergy, Rhinitis, Cutaneous abscess, Recurrent bacterial skin infections, Recurrent otitis media, Sinusitis, Verrucae, Osteomyelitis, Onychomycosis, Bronchiectasis, Scoliosis, and High palate. However, the following features were excluded: Drug allergy and Asthma.\\n</th>\n      <td>1. Hyper IgE Syndrome (Job's Syndrome)\\n2. Com...</td>\n      <td>PMID_19776401_Patient_6_1_en-prompt.txt</td>\n    </tr>\n    <tr>\n      <th>I am running an experiment on a clinical case report to see how your diagnoses compare with those of human experts.\\nI am going to give you part of a medical case. In this case, you are “Dr. GPT-4”, an AI language model who is providing\\na diagnosis. Here are some guidelines. First, there is a single definitive diagnosis, and it is a diagnosis that is known\\ntoday to exist in humans. The diagnosis is almost always confirmed by some sort of genetic test, though in rare cases\\nwhen such a test does not exist for a diagnosis the diagnosis can instead be made using validated clinical criteria or\\nvery rarely just confirmed by expert opinion. After you read the case, I want you to give a differential diagnosis with\\na list of candidate diagnoses ranked by probability starting with the most likely candidate. Each candidate should be\\nspecified with disease name. For instance, if the first candidate is Branchiooculofacial syndrome and the second is\\nCystic fibrosis, provide this:\\n\\n1. Branchiooculofacial syndrome\\n2. Cystic fibrosis\\n\\nThis list should provide as many diagnoses as you think are reasonable. You do not need to explain your reasoning,\\njust list the diagnoses. Here is the case:\\n\\nThe proband was a 12-year-old adolescent boy. Disease onset occurred when the proband was a newborn.\\nHe presented with Feeding difficulties, Dental malocclusion, and Dental crowding. However, the following features were excluded: Choanal stenosis.\\nAt an age of , he presented with Hypertelorism. \\nAt an age of 2 years 6 months, he presented with Hearing impairment. \\nAt an age of 1 year, he presented with Cranial hyperostosis. \\nAs a neonate, he presented with Facial palsy and Alveolar ridge overgrowth. \\nAt an age of 6 years, he presented with Increased circulating osteocalcin level, Elevated circulating alkaline phosphatase concentration, and Macrocephaly. \\n</th>\n      <td>1. Craniometaphyseal dysplasia\\n2. Crouzon syn...</td>\n      <td>PMID_20358596_Patient_A_en-prompt.txt</td>\n    </tr>\n    <tr>\n      <th>I am running an experiment on a clinical case report to see how your diagnoses compare with those of human experts.\\nI am going to give you part of a medical case. In this case, you are “Dr. GPT-4”, an AI language model who is providing\\na diagnosis. Here are some guidelines. First, there is a single definitive diagnosis, and it is a diagnosis that is known\\ntoday to exist in humans. The diagnosis is almost always confirmed by some sort of genetic test, though in rare cases\\nwhen such a test does not exist for a diagnosis the diagnosis can instead be made using validated clinical criteria or\\nvery rarely just confirmed by expert opinion. After you read the case, I want you to give a differential diagnosis with\\na list of candidate diagnoses ranked by probability starting with the most likely candidate. Each candidate should be\\nspecified with disease name. For instance, if the first candidate is Branchiooculofacial syndrome and the second is\\nCystic fibrosis, provide this:\\n\\n1. Branchiooculofacial syndrome\\n2. Cystic fibrosis\\n\\nThis list should provide as many diagnoses as you think are reasonable. You do not need to explain your reasoning,\\njust list the diagnoses. Here is the case:\\n\\nThe proband was a male. Disease onset was not specified.\\nHe presented with Delayed speech and language development, Motor delay, Intellectual disability, Autistic behavior, Hypospadias, Ambiguous genitalia, and Short stature.\\n</th>\n      <td>1. Smith-Lemli-Opitz syndrome\\n2. Fragile X sy...</td>\n      <td>PMID_36586412_8_en-prompt.txt</td>\n    </tr>\n    <tr>\n      <th>...</th>\n      <td>...</td>\n      <td>...</td>\n    </tr>\n    <tr>\n      <th>I am running an experiment on a clinical case report to see how your diagnoses compare with those of human experts.\\nI am going to give you part of a medical case. In this case, you are “Dr. GPT-4”, an AI language model who is providing\\na diagnosis. Here are some guidelines. First, there is a single definitive diagnosis, and it is a diagnosis that is known\\ntoday to exist in humans. The diagnosis is almost always confirmed by some sort of genetic test, though in rare cases\\nwhen such a test does not exist for a diagnosis the diagnosis can instead be made using validated clinical criteria or\\nvery rarely just confirmed by expert opinion. After you read the case, I want you to give a differential diagnosis with\\na list of candidate diagnoses ranked by probability starting with the most likely candidate. Each candidate should be\\nspecified with disease name. For instance, if the first candidate is Branchiooculofacial syndrome and the second is\\nCystic fibrosis, provide this:\\n\\n1. Branchiooculofacial syndrome\\n2. Cystic fibrosis\\n\\nThis list should provide as many diagnoses as you think are reasonable. You do not need to explain your reasoning,\\njust list the diagnoses. Here is the case:\\n\\nThe proband was a 22-year-old woman. Disease onset was not specified.\\nShe presented with Nystagmus, Hydronephrosis, and Hearing impairment. However, the following features were excluded: Diabetes insipidus, Seizure, Intellectual disability, Tremor, and Ataxia.\\nAt an age of , she presented with Diabetes mellitus and Optic atrophy. \\n</th>\n      <td>1. Wolfram Syndrome\\n2. Bardet-Biedl Syndrome\\...</td>\n      <td>PMID_9817917_Family_4_individual_13070_en-prom...</td>\n    </tr>\n    <tr>\n      <th>I am running an experiment on a clinical case report to see how your diagnoses compare with those of human experts.\\nI am going to give you part of a medical case. In this case, you are “Dr. GPT-4”, an AI language model who is providing\\na diagnosis. Here are some guidelines. First, there is a single definitive diagnosis, and it is a diagnosis that is known\\ntoday to exist in humans. The diagnosis is almost always confirmed by some sort of genetic test, though in rare cases\\nwhen such a test does not exist for a diagnosis the diagnosis can instead be made using validated clinical criteria or\\nvery rarely just confirmed by expert opinion. After you read the case, I want you to give a differential diagnosis with\\na list of candidate diagnoses ranked by probability starting with the most likely candidate. Each candidate should be\\nspecified with disease name. For instance, if the first candidate is Branchiooculofacial syndrome and the second is\\nCystic fibrosis, provide this:\\n\\n1. Branchiooculofacial syndrome\\n2. Cystic fibrosis\\n\\nThis list should provide as many diagnoses as you think are reasonable. You do not need to explain your reasoning,\\njust list the diagnoses. Here is the case:\\n\\nThe proband was a 25-year-old woman. Disease onset occurred when the proband was 6-year, 0-month old.\\nShe presented with Decreased beta-galactosidase activity, Cherry red spot of the macula, Platyspondyly, Intellectual disability, mild, and Abnormality of extrapyramidal motor function. However, the following features were excluded: Splenomegaly and Hepatomegaly.\\n</th>\n      <td>1. GM1 gangliosidosis\\n2. Niemann-Pick disease...</td>\n      <td>PMID_1907800_TS_en-prompt.txt</td>\n    </tr>\n    <tr>\n      <th>I am running an experiment on a clinical case report to see how your diagnoses compare with those of human experts.\\nI am going to give you part of a medical case. In this case, you are “Dr. GPT-4”, an AI language model who is providing\\na diagnosis. Here are some guidelines. First, there is a single definitive diagnosis, and it is a diagnosis that is known\\ntoday to exist in humans. The diagnosis is almost always confirmed by some sort of genetic test, though in rare cases\\nwhen such a test does not exist for a diagnosis the diagnosis can instead be made using validated clinical criteria or\\nvery rarely just confirmed by expert opinion. After you read the case, I want you to give a differential diagnosis with\\na list of candidate diagnoses ranked by probability starting with the most likely candidate. Each candidate should be\\nspecified with disease name. For instance, if the first candidate is Branchiooculofacial syndrome and the second is\\nCystic fibrosis, provide this:\\n\\n1. Branchiooculofacial syndrome\\n2. Cystic fibrosis\\n\\nThis list should provide as many diagnoses as you think are reasonable. You do not need to explain your reasoning,\\njust list the diagnoses. Here is the case:\\n\\nThe proband was a 11-year-old adolescent girl. Disease onset was not specified.\\nShe presented with Myalgia, Lower limb muscle weakness, Postural instability, Vomiting, Abdominal distention, Muscle spasm, Failure to thrive, Cholelithiasis, Lower limb asymmetry, Upper limb asymmetry, Hepatomegaly, Cognitive impairment, Decreased Achilles reflex, Impaired vibratory sensation, Positive Romberg sign, Incoordination, Elevated circulating aspartate aminotransferase concentration, Increased circulating lactate concentration, Increased serum pyruvate, EMG: myopathic abnormalities, and Hyperintensity of cerebral white matter on MRI.\\n</th>\n      <td>1. Mitochondrial disease\\n2. Leigh syndrome\\n3...</td>\n      <td>PMID_28673863_28673863_P1_en-prompt.txt</td>\n    </tr>\n    <tr>\n      <th>I am running an experiment on a clinical case report to see how your diagnoses compare with those of human experts.\\nI am going to give you part of a medical case. In this case, you are “Dr. GPT-4”, an AI language model who is providing\\na diagnosis. Here are some guidelines. First, there is a single definitive diagnosis, and it is a diagnosis that is known\\ntoday to exist in humans. The diagnosis is almost always confirmed by some sort of genetic test, though in rare cases\\nwhen such a test does not exist for a diagnosis the diagnosis can instead be made using validated clinical criteria or\\nvery rarely just confirmed by expert opinion. After you read the case, I want you to give a differential diagnosis with\\na list of candidate diagnoses ranked by probability starting with the most likely candidate. Each candidate should be\\nspecified with disease name. For instance, if the first candidate is Branchiooculofacial syndrome and the second is\\nCystic fibrosis, provide this:\\n\\n1. Branchiooculofacial syndrome\\n2. Cystic fibrosis\\n\\nThis list should provide as many diagnoses as you think are reasonable. You do not need to explain your reasoning,\\njust list the diagnoses. Here is the case:\\n\\nThe proband was a 6-year, 0-month old boy. Disease onset occurred when the proband was an infant.\\nHe presented with Feeding difficulties in infancy, Abnormality of the dentition, Intellectual disability, Seizure, Global developmental delay, Growth delay, Delayed ability to walk, and Reduced bone mineral density. However, the following features were excluded: Cleft palate and Brain imaging abnormality.\\n</th>\n      <td>1. Angelman syndrome\\n2. Rett syndrome\\n3. Phe...</td>\n      <td>PMID_31021519_individual_SATB2_112_en-prompt.txt</td>\n    </tr>\n    <tr>\n      <th>I am running an experiment on a clinical case report to see how your diagnoses compare with those of human experts.\\nI am going to give you part of a medical case. In this case, you are “Dr. GPT-4”, an AI language model who is providing\\na diagnosis. Here are some guidelines. First, there is a single definitive diagnosis, and it is a diagnosis that is known\\ntoday to exist in humans. The diagnosis is almost always confirmed by some sort of genetic test, though in rare cases\\nwhen such a test does not exist for a diagnosis the diagnosis can instead be made using validated clinical criteria or\\nvery rarely just confirmed by expert opinion. After you read the case, I want you to give a differential diagnosis with\\na list of candidate diagnoses ranked by probability starting with the most likely candidate. Each candidate should be\\nspecified with disease name. For instance, if the first candidate is Branchiooculofacial syndrome and the second is\\nCystic fibrosis, provide this:\\n\\n1. Branchiooculofacial syndrome\\n2. Cystic fibrosis\\n\\nThis list should provide as many diagnoses as you think are reasonable. You do not need to explain your reasoning,\\njust list the diagnoses. Here is the case:\\n\\nThe proband was a male. Disease onset occurred when the proband was 9-month-old.\\nHe presented with Seizure, Encephalopathy, Hypoglycemia, Metabolic acidosis, Elevated circulating hepatic transaminase concentration, Elevated urinary 3-hydroxybutyric acid, and Dicarboxylic aciduria.\\n</th>\n      <td>1. Medium-chain acyl-CoA dehydrogenase (MCAD) ...</td>\n      <td>PMID_33045405_Liu_et_al___2019__patient_1_en-p...</td>\n    </tr>\n  </tbody>\n</table>\n<p>5267 rows × 2 columns</p>\n</div>"
     },
     "execution_count": 3,
     "metadata": {},
     "output_type": "execute_result"
    }
   ],
   "source": [
    "import pandas as pd\n",
    "\n",
    "# we start with o1 responses here:\n",
    "gpt_4o_responses = pd.read_csv(output_file, index_col=0)\n",
    "gpt_4o_responses"
   ],
   "metadata": {
    "collapsed": false,
    "ExecuteTime": {
     "end_time": "2024-10-01T12:19:57.541528Z",
     "start_time": "2024-10-01T12:19:57.434840Z"
    }
   },
   "id": "7a93a769369d01ec"
  },
  {
   "cell_type": "markdown",
   "source": [
    "### code to ground the diagnosis text to MONDO ontology"
   ],
   "metadata": {
    "collapsed": false
   },
   "id": "6e59fc4562722153"
  },
  {
   "cell_type": "code",
   "execution_count": 7,
   "outputs": [],
   "source": [
    "import re\n",
    "from oaklib.interfaces.text_annotator_interface import TextAnnotationConfiguration\n",
    "from oaklib.interfaces.text_annotator_interface import TextAnnotatorInterface\n",
    "from curate_gpt.store import get_store\n",
    "from typing import List, Tuple\n",
    "import logging \n",
    "\n",
    "# Get the OAK annotator for MONDO\n",
    "from oaklib import get_adapter\n",
    "# Set up OAK SQLite implementation for MONDO\n",
    "annotator = get_adapter(\"sqlite:obo:mondo\")\n",
    "\n",
    "# Compile a regex pattern to detect lines starting with \"Differential Diagnosis:\"\n",
    "dd_re = re.compile(r\"^[^A-z]*Differential Diagnosis\")\n",
    "\n",
    "# Function to clean and remove \"Differential Diagnosis\" header if present\n",
    "def clean_service_answer(answer: str) -> str:\n",
    "    \"\"\"Remove the 'Differential Diagnosis' header if present, and clean the first line.\"\"\"\n",
    "    lines = answer.split('\\n')\n",
    "    # Filter out any line that starts with \"Differential Diagnosis:\"\n",
    "    cleaned_lines = [line for line in lines if not dd_re.match(line)]\n",
    "    return '\\n'.join(cleaned_lines)\n",
    "\n",
    "# Clean the diagnosis line by removing leading numbers, periods, asterisks, and spaces\n",
    "def clean_diagnosis_line(line: str) -> str:\n",
    "    \"\"\"Remove leading numbers, asterisks, and unnecessary punctuation/spaces from the diagnosis.\"\"\"\n",
    "    line = re.sub(r'^\\**\\d+\\.\\s*', '', line)  # Remove leading numbers and periods\n",
    "    line = line.strip('*')  # Remove asterisks around the text\n",
    "    return line.strip()  # Strip any remaining spaces\n",
    "\n",
    "def perform_curategpt_grounding(\n",
    "    diagnosis: str,\n",
    "    path: str,\n",
    "    collection: str,\n",
    "    database_type: str = \"chromadb\",\n",
    "    limit: int = 1,\n",
    "    relevance_factor: float = 0.23,\n",
    "    verbose: bool = False\n",
    ") -> List[Tuple[str, str]]:\n",
    "    \"\"\"\n",
    "    Use curategpt to perform grounding for a given diagnosis when initial attempts fail.\n",
    "    \n",
    "    Parameters:\n",
    "    - diagnosis: The diagnosis text to ground.\n",
    "    - path: The path to the database. You'll need to create an index of Mondo using curategpt in this db\n",
    "    - collection: The collection to search within curategpt. Name of mondo collection in the db\n",
    "    NB: You can make this collection by running curategpt thusly:\n",
    "    `curategpt ontology index --index-fields label,definition,relationships -p stagedb -c ont_mondo -m openai: sqlite:obo:mondo`\n",
    "    - database_type: The type of database used for grounding (e.g., chromadb, duckdb).\n",
    "    - limit: The number of search results to return.\n",
    "    - relevance_factor: The distance threshold for relevance filtering.\n",
    "    - verbose: Whether to print verbose output for debugging.\n",
    "    \n",
    "    Returns:\n",
    "    - List of tuples: [(Mondo ID, Label), ...]\n",
    "    \"\"\"\n",
    "    # Initialize the database store\n",
    "    db = get_store(database_type, path)\n",
    "    \n",
    "    # Perform the search using the provided diagnosis\n",
    "    results = db.search(diagnosis, collection=collection)\n",
    "\n",
    "    # Filter results based on relevance factor (distance)\n",
    "    if relevance_factor is not None:\n",
    "        results = [(obj, distance, _meta) for obj, distance, _meta in results if distance <= relevance_factor]\n",
    "\n",
    "    # Limit the results to the specified number (limit)\n",
    "    limited_results = results[:limit]\n",
    "\n",
    "    # Extract Mondo IDs and labels\n",
    "    pred_ids = []\n",
    "    pred_labels = []\n",
    "\n",
    "    for obj, distance, _meta in limited_results:\n",
    "        disease_mondo_id = obj.get(\"original_id\")  # Use the 'original_id' field for Mondo ID\n",
    "        disease_label = obj.get(\"label\")\n",
    "        \n",
    "        if disease_mondo_id and disease_label:\n",
    "            pred_ids.append(disease_mondo_id)\n",
    "            pred_labels.append(disease_label)\n",
    "\n",
    "    # Return as a list of tuples (Mondo ID, Label)\n",
    "    if len(pred_ids) == 0:\n",
    "        if verbose:\n",
    "            print(f\"No grounded IDs found for {diagnosis}\")\n",
    "        return [('N/A', 'No grounding found')]\n",
    "\n",
    "    return list(zip(pred_ids, pred_labels))\n",
    "\n",
    "\n",
    "# Perform grounding on the text to MONDO ontology and return the result\n",
    "def perform_oak_grounding(\n",
    "    annotator: TextAnnotatorInterface,\n",
    "    diagnosis: str,\n",
    "    exact_match: bool = True,\n",
    "    verbose: bool = False,\n",
    "    include_list: List[str] = [\"MONDO:\"],\n",
    ") -> List[Tuple[str, str]]:\n",
    "    \"\"\"\n",
    "    Perform grounding for a diagnosis. The 'exact_match' flag controls whether exact or inexact\n",
    "    (partial) matching is used. Filter results to include only CURIEs that match the 'include_list',\n",
    "    and exclude results that match the 'exclude_list'.\n",
    "    Remove redundant groundings from the result.\n",
    "    \"\"\"\n",
    "    config = TextAnnotationConfiguration(matches_whole_text=exact_match)\n",
    "    annotations = list(annotator.annotate_text(diagnosis, configuration=config))\n",
    "\n",
    "    # Filter and remove duplicates, while excluding unwanted general terms\n",
    "    filtered_annotations = list(\n",
    "        {\n",
    "            (ann.object_id, ann.object_label)\n",
    "            for ann in annotations\n",
    "            if any(ann.object_id.startswith(prefix) for prefix in include_list)\n",
    "        }\n",
    "    )\n",
    "    \n",
    "    if filtered_annotations:\n",
    "        return filtered_annotations\n",
    "    else:\n",
    "        match_type = \"exact\" if exact_match else \"inexact\"\n",
    "        if verbose:\n",
    "            logging.warning(f\"No {match_type} grounded IDs found for: {diagnosis}\")\n",
    "        return [('N/A', 'No grounding found')]\n",
    "\n",
    "# Now, integrate curategpt into your ground_diagnosis_text_to_mondo function\n",
    "def ground_diagnosis_text_to_mondo(\n",
    "    annotator: TextAnnotatorInterface,\n",
    "    differential_diagnosis: str,\n",
    "    verbose: bool = False,\n",
    "    include_list: List[str] = [\"MONDO:\"],\n",
    "    use_ontogpt_grounding: bool = True,\n",
    "    curategpt_path: str = \"../../curate-gpt/stagedb/\",\n",
    "    curategpt_collection: str = \"ont_mondo\",\n",
    "    curategpt_database_type: str = \"chromadb\"\n",
    ") -> List[Tuple[str, List[Tuple[str, str]]]]:\n",
    "    results = []\n",
    "    \n",
    "    # Split the input into lines and process each one\n",
    "    for line in differential_diagnosis.splitlines():\n",
    "        clean_line = clean_diagnosis_line(line)\n",
    "        \n",
    "        # Skip header lines like \"**Differential diagnosis:**\"\n",
    "        if not clean_line or \"Differential diagnosis\" in clean_line.lower():\n",
    "            continue\n",
    "        \n",
    "        # Try grounding the full line first (exact match)\n",
    "        grounded = perform_oak_grounding(annotator, clean_line, exact_match=True, verbose=verbose, include_list=include_list)\n",
    "        \n",
    "        # Try grounding with curategpt if no grounding is found\n",
    "        if use_ontogpt_grounding and grounded == [('N/A', 'No grounding found')]:\n",
    "            grounded = perform_curategpt_grounding(\n",
    "                diagnosis=clean_line,\n",
    "                path=curategpt_path,\n",
    "                collection=curategpt_collection,\n",
    "                database_type=curategpt_database_type,\n",
    "                verbose=verbose\n",
    "            )\n",
    "        \n",
    "        # If still no grounding is found, log the final failure\n",
    "        if grounded == [('N/A', 'No grounding found')]:\n",
    "            if verbose:\n",
    "                print(f\"Final grounding failed for: {clean_line}\")\n",
    "        \n",
    "        # Append the grounded results (even if no grounding was found)\n",
    "        results.append((clean_line, grounded))\n",
    "\n",
    "    return results"
   ],
   "metadata": {
    "collapsed": false,
    "ExecuteTime": {
     "end_time": "2024-10-01T12:22:03.032008Z",
     "start_time": "2024-10-01T12:22:02.943842Z"
    }
   },
   "id": "e070e2955599ddad"
  },
  {
   "cell_type": "markdown",
   "source": [
    "##\n",
    "## RUN SOME TESTS\n",
    "##"
   ],
   "metadata": {
    "collapsed": false
   },
   "id": "6fbdf1d36c90252a"
  },
  {
   "cell_type": "code",
   "execution_count": 8,
   "outputs": [
    {
     "name": "stdout",
     "output_type": "stream",
     "text": [
      "Grounding Result:\n",
      "[('Branchiooculofacial syndrome', [('MONDO:0007235', 'branchiooculofacial syndrome')]), ('Unicorn syndrome', [('N/A', 'No grounding found')]), ('Cystic fibrosis', [('MONDO:0009061', 'cystic fibrosis')]), ('22q11.2 deletion syndrome (Velocardiofacial syndrome)', [('MONDO:0008644', 'velocardiofacial syndrome')]), ('ATP6V0A4-related distal renal tubular acidosis', [('MONDO:0012700', 'renal tubular acidosis, distal, 4, with hemolytic anemia')])]\n"
     ]
    }
   ],
   "source": [
    "from warnings import warn\n",
    "\n",
    "# helper function to check if a grounding is correct\n",
    "def assert_correct_result(result, expected_result):\n",
    "    # Assert that the grounded result matches the expected output\n",
    "    assert len(result) == len(expected_result), f\"Length of grounding result:\\n{result}\\n does not match length of expected result:\\n{expected_result}\\n\"\n",
    "    \n",
    "    for res_item, expected_item in zip(result, expected_result):\n",
    "        # First, assert that the diagnosis name matches exactly\n",
    "        if res_item[0] != expected_item[0]:\n",
    "            warn(f\"Diagnosis mismatch: {res_item[0]} != {expected_item[0]}\")\n",
    "        \n",
    "        # Then, assert that the grounding list matches, ignoring order\n",
    "        assert set(res_item[1]) == set(expected_item[1]), f\"Grounding mismatch for {res_item[0]}\"\n",
    "    \n",
    "\n",
    "# Example grounding with OAK annotation - testing on a sample input\n",
    "differential_diagnosis_text = \"\"\"\n",
    "**Differential Diagnosis:**\n",
    "1. Branchiooculofacial syndrome\n",
    "2. Unicorn syndrome\n",
    "3. Cystic fibrosis\n",
    "4. 22q11.2 deletion syndrome (Velocardiofacial syndrome)\n",
    "**5. ATP6V0A4-related distal renal tubular acidosis**\n",
    "\"\"\"\n",
    "\n",
    "# Cleaning and grounding the sample differential diagnosis text\n",
    "cleaned_text = clean_service_answer(differential_diagnosis_text)\n",
    "# Assert that the cleaning process returns non-empty text\n",
    "assert cleaned_text != \"\", \"Cleaning failed: the cleaned text is empty.\"\n",
    "\n",
    "# Define the expected result for the sample input\n",
    "expected_result = [\n",
    "    ('Branchiooculofacial syndrome', [('MONDO:0007235', 'branchiooculofacial syndrome')]), \n",
    "    ('Unicorn syndrome', [('N/A', 'No grounding found')]), \n",
    "    ('Cystic fibrosis', [('MONDO:0009061', 'cystic fibrosis')]), \n",
    "    ('22q11.2 deletion syndrome (Velocardiofacial syndrome)', [('MONDO:0008644', 'velocardiofacial syndrome')]), \n",
    "    ('ATP6V0A4-related distal renal tubular acidosis', [('MONDO:0012700', 'renal tubular acidosis, distal, 4, with hemolytic anemia')])\n",
    "]\n",
    "\n",
    "# Ground the text to MONDO\n",
    "result = ground_diagnosis_text_to_mondo(annotator, cleaned_text, verbose=False)\n",
    "print(\"Grounding Result:\")\n",
    "print(result)\n",
    "\n",
    "assert_correct_result(result, expected_result)"
   ],
   "metadata": {
    "collapsed": false,
    "ExecuteTime": {
     "end_time": "2024-10-01T12:23:35.942778Z",
     "start_time": "2024-10-01T12:22:06.681101Z"
    }
   },
   "id": "8077a1427c3d3a11"
  },
  {
   "cell_type": "code",
   "execution_count": null,
   "outputs": [
    {
     "name": "stderr",
     "output_type": "stream",
     "text": [
      " 74%|███████▎  | 3879/5267 [1:37:11<22:52,  1.01it/s]  "
     ]
    }
   ],
   "source": [
    "# Apply the cleaning and grounding functions directly to the 'service_answer' column. Might take 45m or so to run.\n",
    "import pandas as pd\n",
    "from tqdm import tqdm\n",
    "tqdm.pandas()\n",
    "\n",
    "gpt_4o_responses['grounded_diagnosis'] = gpt_4o_responses['service_answer'].progress_apply(\n",
    "    lambda x: ground_diagnosis_text_to_mondo(annotator, clean_service_answer(x), verbose=False)\n",
    ")\n",
    "\n",
    "gpt_4o_responses.to_csv(output_grounded_file, index=False)\n",
    "\n",
    "# Display a sample of the updated DataFrame\n",
    "gpt_4o_responses"
   ],
   "metadata": {
    "collapsed": false,
    "is_executing": true,
    "ExecuteTime": {
     "start_time": "2024-10-01T12:26:01.447864Z"
    }
   },
   "id": "9c5335921fedb924"
  },
  {
   "cell_type": "code",
   "execution_count": null,
   "outputs": [],
   "source": [
    "# Load the DataFrame with the grounded diagnosis text (not using o1_responses from above to avoid re-running the previous cell)\n",
    "gpt_4o_responses = pd.read_csv(output_grounded_file, index_col=0)\n",
    "gpt_4o_responses"
   ],
   "metadata": {
    "collapsed": false,
    "is_executing": true
   },
   "id": "29d899b399215643"
  }
 ],
 "metadata": {
  "kernelspec": {
   "display_name": "Python 3",
   "language": "python",
   "name": "python3"
  },
  "language_info": {
   "codemirror_mode": {
    "name": "ipython",
    "version": 2
   },
   "file_extension": ".py",
   "mimetype": "text/x-python",
   "name": "python",
   "nbconvert_exporter": "python",
   "pygments_lexer": "ipython2",
   "version": "2.7.6"
  }
 },
 "nbformat": 4,
 "nbformat_minor": 5
}
