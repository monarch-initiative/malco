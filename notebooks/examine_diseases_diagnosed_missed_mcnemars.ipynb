{
 "cells": [
  {
   "cell_type": "markdown",
   "source": [
    "### Examine Diseases Diagnosed and Missed by O1 and Exomiser using McNemar Test on each disease in Phenopacket-store (and its ancestors)\n",
    "\n",
    "###### We consider each disease in the Phenopacket-store and its subClassOf ancestors in Mondo to be a pass/fail test for each method. We can then construct a contingency table for each term and use a McNemar test to determine if the methods are significantly different in their ability to diagnose any disease or ancestor in the cohort. "
   ],
   "metadata": {
    "collapsed": false
   },
   "id": "152f003da899f38b"
  },
  {
   "cell_type": "code",
   "execution_count": 14,
   "outputs": [
    {
     "name": "stdout",
     "output_type": "stream",
     "text": [
      "Requirement already satisfied: statsmodels in /Users/jtr4v/PythonProject/malco/.venv/lib/python3.11/site-packages (0.14.4)\r\n",
      "Requirement already satisfied: pandas in /Users/jtr4v/PythonProject/malco/.venv/lib/python3.11/site-packages (2.2.3)\r\n",
      "Requirement already satisfied: numpy<3,>=1.22.3 in /Users/jtr4v/PythonProject/malco/.venv/lib/python3.11/site-packages (from statsmodels) (1.24.1)\r\n",
      "Requirement already satisfied: scipy!=1.9.2,>=1.8 in /Users/jtr4v/PythonProject/malco/.venv/lib/python3.11/site-packages (from statsmodels) (1.9.3)\r\n",
      "Requirement already satisfied: patsy>=0.5.6 in /Users/jtr4v/PythonProject/malco/.venv/lib/python3.11/site-packages (from statsmodels) (0.5.6)\r\n",
      "Requirement already satisfied: packaging>=21.3 in /Users/jtr4v/PythonProject/malco/.venv/lib/python3.11/site-packages (from statsmodels) (23.0)\r\n",
      "Requirement already satisfied: python-dateutil>=2.8.2 in /Users/jtr4v/PythonProject/malco/.venv/lib/python3.11/site-packages (from pandas) (2.8.2)\r\n",
      "Requirement already satisfied: pytz>=2020.1 in /Users/jtr4v/PythonProject/malco/.venv/lib/python3.11/site-packages (from pandas) (2022.7.1)\r\n",
      "Requirement already satisfied: tzdata>=2022.7 in /Users/jtr4v/PythonProject/malco/.venv/lib/python3.11/site-packages (from pandas) (2024.1)\r\n",
      "Requirement already satisfied: six in /Users/jtr4v/PythonProject/malco/.venv/lib/python3.11/site-packages (from patsy>=0.5.6->statsmodels) (1.16.0)\r\n"
     ]
    }
   ],
   "source": [
    "!pip install statsmodels pandas"
   ],
   "metadata": {
    "collapsed": false,
    "ExecuteTime": {
     "end_time": "2024-10-11T11:58:00.004232Z",
     "start_time": "2024-10-11T11:57:55.779848Z"
    }
   },
   "id": "c259c60daa01f03e"
  },
  {
   "cell_type": "code",
   "execution_count": 15,
   "outputs": [],
   "source": [
    "# Maximum rank to be considered correct\n",
    "max_rank = 10\n",
    "\n",
    "# Limit for testing\n",
    "limit = 10 # _000_000_000"
   ],
   "metadata": {
    "collapsed": false,
    "ExecuteTime": {
     "end_time": "2024-10-11T11:58:00.011336Z",
     "start_time": "2024-10-11T11:58:00.006178Z"
    }
   },
   "id": "999b50891b170bb8"
  },
  {
   "cell_type": "code",
   "execution_count": 16,
   "outputs": [],
   "source": [
    "from typing import List\n",
    "from oaklib import get_adapter\n",
    "from oaklib.datamodels.vocabulary import IS_A, PART_OF\n",
    "\n",
    "adapter = get_adapter(\"sqlite:obo:mondo\") \n",
    "\n",
    "# get descendants of hereditary disease\n",
    "hereditary_disease = \"MONDO:0003847\"\n",
    "hereditary_disease_descendants = set([t for t in list(set(adapter.descendants(hereditary_disease, predicates=[IS_A], reflexive=True))) if t.startswith(\"MONDO\")])\n",
    "\n",
    "# Function to get ancestors of a disease term\n",
    "def get_ancestors(term_id, prefixes=[\"MONDO\"], restrict_to_hereditary=False):\n",
    "    \"\"\"\n",
    "    Get ancestors of a disease term.\n",
    "    :param term_id: \n",
    "    :param prefixes: \n",
    "    :param restrict_to_hereditary: should we only consider hereditary diseases? (MONDO:0003847)\n",
    "    :return: \n",
    "    \"\"\"\n",
    "    ancs = [t for t in list(set(adapter.ancestors(term_id, predicates=[IS_A], reflexive=True))) if t.startswith(tuple(prefixes))]\n",
    "    if restrict_to_hereditary:\n",
    "        ancs = list(set(ancs).intersection(hereditary_disease_descendants).union([term_id]))\n",
    "    return ancs \n",
    "    \n",
    "assert(set(get_ancestors(\"MONDO:0005015\", restrict_to_hereditary=False)) ==  \\\n",
    "       set(['MONDO:0000001', 'MONDO:0005015', 'MONDO:0005151', 'MONDO:0001933', 'MONDO:0700096', 'MONDO:0002356', 'MONDO:0004335', 'MONDO:0002908', 'MONDO:0005066']))\n",
    "assert(set(list(get_ancestors(\"MONDO:0005015\", restrict_to_hereditary=True))) == set(['MONDO:0005015']))\n",
    "\n",
    "# Function to get the Mondo mappings for an OMIM term\n",
    "def mondo_mappings_for_omim(term: str, adapter,\n",
    "                            subject_source=\"MONDO\",\n",
    "                            predictates=['oio:hasDbXref', \"skos:exactMatch\"]) -> List[str]: \n",
    "    \"\"\"\n",
    "    Get the Mondo mappings for an OMIM term.\n",
    "\n",
    "    Returns:\n",
    "        str: The mappings.\n",
    "    \"\"\"   \n",
    "    mondo = []\n",
    "    for m in adapter.sssom_mappings([term]):\n",
    "        if m.predicate_id in predictates and m.subject_source in subject_source:\n",
    "            mondo.append(m.subject_id)\n",
    "    return list(set(mondo))\n",
    "\n",
    "assert(mondo_mappings_for_omim(term=\"OMIM:222100\", adapter=adapter) == [\"MONDO:0005147\"])\n",
    "assert(mondo_mappings_for_omim(term=\"OMIM:154700\", adapter=adapter) == [\"MONDO:0007947\"])"
   ],
   "metadata": {
    "collapsed": false,
    "ExecuteTime": {
     "end_time": "2024-10-11T11:58:01.011166Z",
     "start_time": "2024-10-11T11:58:00.008269Z"
    }
   },
   "id": "6dc75b6c89f22d45"
  },
  {
   "cell_type": "code",
   "execution_count": 17,
   "outputs": [
    {
     "name": "stderr",
     "output_type": "stream",
     "text": [
      "100%|██████████| 5212/5212 [00:00<00:00, 36705.28it/s]\n"
     ]
    },
    {
     "name": "stdout",
     "output_type": "stream",
     "text": [
      "Total mappings: 5212\n"
     ]
    },
    {
     "ename": "KeyboardInterrupt",
     "evalue": "",
     "output_type": "error",
     "traceback": [
      "\u001B[0;31m---------------------------------------------------------------------------\u001B[0m",
      "\u001B[0;31mKeyboardInterrupt\u001B[0m                         Traceback (most recent call last)",
      "Cell \u001B[0;32mIn[17], line 42\u001B[0m\n\u001B[1;32m     38\u001B[0m         warn(\u001B[38;5;124mf\u001B[39m\u001B[38;5;124m\"\u001B[39m\u001B[38;5;124mMultiple matching phenopacket_dir files found for \u001B[39m\u001B[38;5;132;01m{\u001B[39;00mresult_file\u001B[38;5;132;01m}\u001B[39;00m\u001B[38;5;124m\"\u001B[39m)\n\u001B[1;32m     40\u001B[0m \u001B[38;5;28mprint\u001B[39m(\u001B[38;5;124mf\u001B[39m\u001B[38;5;124m\"\u001B[39m\u001B[38;5;124mTotal mappings: \u001B[39m\u001B[38;5;132;01m{\u001B[39;00m\u001B[38;5;28mlen\u001B[39m(phenopacket2results)\u001B[38;5;132;01m}\u001B[39;00m\u001B[38;5;124m\"\u001B[39m)\n\u001B[0;32m---> 42\u001B[0m phenopacket2results\n",
      "File \u001B[0;32m~/PythonProject/malco/.venv/lib/python3.11/site-packages/IPython/core/displayhook.py:268\u001B[0m, in \u001B[0;36mDisplayHook.__call__\u001B[0;34m(self, result)\u001B[0m\n\u001B[1;32m    266\u001B[0m \u001B[38;5;28mself\u001B[39m\u001B[38;5;241m.\u001B[39mstart_displayhook()\n\u001B[1;32m    267\u001B[0m \u001B[38;5;28mself\u001B[39m\u001B[38;5;241m.\u001B[39mwrite_output_prompt()\n\u001B[0;32m--> 268\u001B[0m format_dict, md_dict \u001B[38;5;241m=\u001B[39m \u001B[38;5;28;43mself\u001B[39;49m\u001B[38;5;241;43m.\u001B[39;49m\u001B[43mcompute_format_data\u001B[49m\u001B[43m(\u001B[49m\u001B[43mresult\u001B[49m\u001B[43m)\u001B[49m\n\u001B[1;32m    269\u001B[0m \u001B[38;5;28mself\u001B[39m\u001B[38;5;241m.\u001B[39mupdate_user_ns(result)\n\u001B[1;32m    270\u001B[0m \u001B[38;5;28mself\u001B[39m\u001B[38;5;241m.\u001B[39mfill_exec_result(result)\n",
      "File \u001B[0;32m~/PythonProject/malco/.venv/lib/python3.11/site-packages/IPython/core/displayhook.py:157\u001B[0m, in \u001B[0;36mDisplayHook.compute_format_data\u001B[0;34m(self, result)\u001B[0m\n\u001B[1;32m    127\u001B[0m \u001B[38;5;28;01mdef\u001B[39;00m \u001B[38;5;21mcompute_format_data\u001B[39m(\u001B[38;5;28mself\u001B[39m, result):\n\u001B[1;32m    128\u001B[0m \u001B[38;5;250m    \u001B[39m\u001B[38;5;124;03m\"\"\"Compute format data of the object to be displayed.\u001B[39;00m\n\u001B[1;32m    129\u001B[0m \n\u001B[1;32m    130\u001B[0m \u001B[38;5;124;03m    The format data is a generalization of the :func:`repr` of an object.\u001B[39;00m\n\u001B[0;32m   (...)\u001B[0m\n\u001B[1;32m    155\u001B[0m \n\u001B[1;32m    156\u001B[0m \u001B[38;5;124;03m    \"\"\"\u001B[39;00m\n\u001B[0;32m--> 157\u001B[0m     \u001B[38;5;28;01mreturn\u001B[39;00m \u001B[38;5;28;43mself\u001B[39;49m\u001B[38;5;241;43m.\u001B[39;49m\u001B[43mshell\u001B[49m\u001B[38;5;241;43m.\u001B[39;49m\u001B[43mdisplay_formatter\u001B[49m\u001B[38;5;241;43m.\u001B[39;49m\u001B[43mformat\u001B[49m\u001B[43m(\u001B[49m\u001B[43mresult\u001B[49m\u001B[43m)\u001B[49m\n",
      "File \u001B[0;32m~/PythonProject/malco/.venv/lib/python3.11/site-packages/IPython/core/formatters.py:182\u001B[0m, in \u001B[0;36mDisplayFormatter.format\u001B[0;34m(self, obj, include, exclude)\u001B[0m\n\u001B[1;32m    180\u001B[0m md \u001B[38;5;241m=\u001B[39m \u001B[38;5;28;01mNone\u001B[39;00m\n\u001B[1;32m    181\u001B[0m \u001B[38;5;28;01mtry\u001B[39;00m:\n\u001B[0;32m--> 182\u001B[0m     data \u001B[38;5;241m=\u001B[39m \u001B[43mformatter\u001B[49m\u001B[43m(\u001B[49m\u001B[43mobj\u001B[49m\u001B[43m)\u001B[49m\n\u001B[1;32m    183\u001B[0m \u001B[38;5;28;01mexcept\u001B[39;00m:\n\u001B[1;32m    184\u001B[0m     \u001B[38;5;66;03m# FIXME: log the exception\u001B[39;00m\n\u001B[1;32m    185\u001B[0m     \u001B[38;5;28;01mraise\u001B[39;00m\n",
      "File \u001B[0;32m~/PythonProject/malco/.venv/lib/python3.11/site-packages/decorator.py:232\u001B[0m, in \u001B[0;36mdecorate.<locals>.fun\u001B[0;34m(*args, **kw)\u001B[0m\n\u001B[1;32m    230\u001B[0m \u001B[38;5;28;01mif\u001B[39;00m \u001B[38;5;129;01mnot\u001B[39;00m kwsyntax:\n\u001B[1;32m    231\u001B[0m     args, kw \u001B[38;5;241m=\u001B[39m fix(args, kw, sig)\n\u001B[0;32m--> 232\u001B[0m \u001B[38;5;28;01mreturn\u001B[39;00m \u001B[43mcaller\u001B[49m\u001B[43m(\u001B[49m\u001B[43mfunc\u001B[49m\u001B[43m,\u001B[49m\u001B[43m \u001B[49m\u001B[38;5;241;43m*\u001B[39;49m\u001B[43m(\u001B[49m\u001B[43mextras\u001B[49m\u001B[43m \u001B[49m\u001B[38;5;241;43m+\u001B[39;49m\u001B[43m \u001B[49m\u001B[43margs\u001B[49m\u001B[43m)\u001B[49m\u001B[43m,\u001B[49m\u001B[43m \u001B[49m\u001B[38;5;241;43m*\u001B[39;49m\u001B[38;5;241;43m*\u001B[39;49m\u001B[43mkw\u001B[49m\u001B[43m)\u001B[49m\n",
      "File \u001B[0;32m~/PythonProject/malco/.venv/lib/python3.11/site-packages/IPython/core/formatters.py:226\u001B[0m, in \u001B[0;36mcatch_format_error\u001B[0;34m(method, self, *args, **kwargs)\u001B[0m\n\u001B[1;32m    224\u001B[0m \u001B[38;5;250m\u001B[39m\u001B[38;5;124;03m\"\"\"show traceback on failed format call\"\"\"\u001B[39;00m\n\u001B[1;32m    225\u001B[0m \u001B[38;5;28;01mtry\u001B[39;00m:\n\u001B[0;32m--> 226\u001B[0m     r \u001B[38;5;241m=\u001B[39m \u001B[43mmethod\u001B[49m\u001B[43m(\u001B[49m\u001B[38;5;28;43mself\u001B[39;49m\u001B[43m,\u001B[49m\u001B[43m \u001B[49m\u001B[38;5;241;43m*\u001B[39;49m\u001B[43margs\u001B[49m\u001B[43m,\u001B[49m\u001B[43m \u001B[49m\u001B[38;5;241;43m*\u001B[39;49m\u001B[38;5;241;43m*\u001B[39;49m\u001B[43mkwargs\u001B[49m\u001B[43m)\u001B[49m\n\u001B[1;32m    227\u001B[0m \u001B[38;5;28;01mexcept\u001B[39;00m \u001B[38;5;167;01mNotImplementedError\u001B[39;00m:\n\u001B[1;32m    228\u001B[0m     \u001B[38;5;66;03m# don't warn on NotImplementedErrors\u001B[39;00m\n\u001B[1;32m    229\u001B[0m     \u001B[38;5;28;01mreturn\u001B[39;00m \u001B[38;5;28mself\u001B[39m\u001B[38;5;241m.\u001B[39m_check_return(\u001B[38;5;28;01mNone\u001B[39;00m, args[\u001B[38;5;241m0\u001B[39m])\n",
      "File \u001B[0;32m~/PythonProject/malco/.venv/lib/python3.11/site-packages/IPython/core/formatters.py:711\u001B[0m, in \u001B[0;36mPlainTextFormatter.__call__\u001B[0;34m(self, obj)\u001B[0m\n\u001B[1;32m    704\u001B[0m stream \u001B[38;5;241m=\u001B[39m StringIO()\n\u001B[1;32m    705\u001B[0m printer \u001B[38;5;241m=\u001B[39m pretty\u001B[38;5;241m.\u001B[39mRepresentationPrinter(stream, \u001B[38;5;28mself\u001B[39m\u001B[38;5;241m.\u001B[39mverbose,\n\u001B[1;32m    706\u001B[0m     \u001B[38;5;28mself\u001B[39m\u001B[38;5;241m.\u001B[39mmax_width, \u001B[38;5;28mself\u001B[39m\u001B[38;5;241m.\u001B[39mnewline,\n\u001B[1;32m    707\u001B[0m     max_seq_length\u001B[38;5;241m=\u001B[39m\u001B[38;5;28mself\u001B[39m\u001B[38;5;241m.\u001B[39mmax_seq_length,\n\u001B[1;32m    708\u001B[0m     singleton_pprinters\u001B[38;5;241m=\u001B[39m\u001B[38;5;28mself\u001B[39m\u001B[38;5;241m.\u001B[39msingleton_printers,\n\u001B[1;32m    709\u001B[0m     type_pprinters\u001B[38;5;241m=\u001B[39m\u001B[38;5;28mself\u001B[39m\u001B[38;5;241m.\u001B[39mtype_printers,\n\u001B[1;32m    710\u001B[0m     deferred_pprinters\u001B[38;5;241m=\u001B[39m\u001B[38;5;28mself\u001B[39m\u001B[38;5;241m.\u001B[39mdeferred_printers)\n\u001B[0;32m--> 711\u001B[0m \u001B[43mprinter\u001B[49m\u001B[38;5;241;43m.\u001B[39;49m\u001B[43mpretty\u001B[49m\u001B[43m(\u001B[49m\u001B[43mobj\u001B[49m\u001B[43m)\u001B[49m\n\u001B[1;32m    712\u001B[0m printer\u001B[38;5;241m.\u001B[39mflush()\n\u001B[1;32m    713\u001B[0m \u001B[38;5;28;01mreturn\u001B[39;00m stream\u001B[38;5;241m.\u001B[39mgetvalue()\n",
      "File \u001B[0;32m~/PythonProject/malco/.venv/lib/python3.11/site-packages/IPython/lib/pretty.py:394\u001B[0m, in \u001B[0;36mRepresentationPrinter.pretty\u001B[0;34m(self, obj)\u001B[0m\n\u001B[1;32m    391\u001B[0m \u001B[38;5;28;01mfor\u001B[39;00m \u001B[38;5;28mcls\u001B[39m \u001B[38;5;129;01min\u001B[39;00m _get_mro(obj_class):\n\u001B[1;32m    392\u001B[0m     \u001B[38;5;28;01mif\u001B[39;00m \u001B[38;5;28mcls\u001B[39m \u001B[38;5;129;01min\u001B[39;00m \u001B[38;5;28mself\u001B[39m\u001B[38;5;241m.\u001B[39mtype_pprinters:\n\u001B[1;32m    393\u001B[0m         \u001B[38;5;66;03m# printer registered in self.type_pprinters\u001B[39;00m\n\u001B[0;32m--> 394\u001B[0m         \u001B[38;5;28;01mreturn\u001B[39;00m \u001B[38;5;28;43mself\u001B[39;49m\u001B[38;5;241;43m.\u001B[39;49m\u001B[43mtype_pprinters\u001B[49m\u001B[43m[\u001B[49m\u001B[38;5;28;43mcls\u001B[39;49m\u001B[43m]\u001B[49m\u001B[43m(\u001B[49m\u001B[43mobj\u001B[49m\u001B[43m,\u001B[49m\u001B[43m \u001B[49m\u001B[38;5;28;43mself\u001B[39;49m\u001B[43m,\u001B[49m\u001B[43m \u001B[49m\u001B[43mcycle\u001B[49m\u001B[43m)\u001B[49m\n\u001B[1;32m    395\u001B[0m     \u001B[38;5;28;01melse\u001B[39;00m:\n\u001B[1;32m    396\u001B[0m         \u001B[38;5;66;03m# deferred printer\u001B[39;00m\n\u001B[1;32m    397\u001B[0m         printer \u001B[38;5;241m=\u001B[39m \u001B[38;5;28mself\u001B[39m\u001B[38;5;241m.\u001B[39m_in_deferred_types(\u001B[38;5;28mcls\u001B[39m)\n",
      "File \u001B[0;32m~/PythonProject/malco/.venv/lib/python3.11/site-packages/IPython/lib/pretty.py:699\u001B[0m, in \u001B[0;36m_dict_pprinter_factory.<locals>.inner\u001B[0;34m(obj, p, cycle)\u001B[0m\n\u001B[1;32m    697\u001B[0m     p\u001B[38;5;241m.\u001B[39mtext(\u001B[38;5;124m'\u001B[39m\u001B[38;5;124m,\u001B[39m\u001B[38;5;124m'\u001B[39m)\n\u001B[1;32m    698\u001B[0m     p\u001B[38;5;241m.\u001B[39mbreakable()\n\u001B[0;32m--> 699\u001B[0m \u001B[43mp\u001B[49m\u001B[38;5;241;43m.\u001B[39;49m\u001B[43mpretty\u001B[49m\u001B[43m(\u001B[49m\u001B[43mkey\u001B[49m\u001B[43m)\u001B[49m\n\u001B[1;32m    700\u001B[0m p\u001B[38;5;241m.\u001B[39mtext(\u001B[38;5;124m'\u001B[39m\u001B[38;5;124m: \u001B[39m\u001B[38;5;124m'\u001B[39m)\n\u001B[1;32m    701\u001B[0m p\u001B[38;5;241m.\u001B[39mpretty(obj[key])\n",
      "File \u001B[0;32m~/PythonProject/malco/.venv/lib/python3.11/site-packages/IPython/lib/pretty.py:394\u001B[0m, in \u001B[0;36mRepresentationPrinter.pretty\u001B[0;34m(self, obj)\u001B[0m\n\u001B[1;32m    391\u001B[0m \u001B[38;5;28;01mfor\u001B[39;00m \u001B[38;5;28mcls\u001B[39m \u001B[38;5;129;01min\u001B[39;00m _get_mro(obj_class):\n\u001B[1;32m    392\u001B[0m     \u001B[38;5;28;01mif\u001B[39;00m \u001B[38;5;28mcls\u001B[39m \u001B[38;5;129;01min\u001B[39;00m \u001B[38;5;28mself\u001B[39m\u001B[38;5;241m.\u001B[39mtype_pprinters:\n\u001B[1;32m    393\u001B[0m         \u001B[38;5;66;03m# printer registered in self.type_pprinters\u001B[39;00m\n\u001B[0;32m--> 394\u001B[0m         \u001B[38;5;28;01mreturn\u001B[39;00m \u001B[38;5;28;43mself\u001B[39;49m\u001B[38;5;241;43m.\u001B[39;49m\u001B[43mtype_pprinters\u001B[49m\u001B[43m[\u001B[49m\u001B[38;5;28;43mcls\u001B[39;49m\u001B[43m]\u001B[49m\u001B[43m(\u001B[49m\u001B[43mobj\u001B[49m\u001B[43m,\u001B[49m\u001B[43m \u001B[49m\u001B[38;5;28;43mself\u001B[39;49m\u001B[43m,\u001B[49m\u001B[43m \u001B[49m\u001B[43mcycle\u001B[49m\u001B[43m)\u001B[49m\n\u001B[1;32m    395\u001B[0m     \u001B[38;5;28;01melse\u001B[39;00m:\n\u001B[1;32m    396\u001B[0m         \u001B[38;5;66;03m# deferred printer\u001B[39;00m\n\u001B[1;32m    397\u001B[0m         printer \u001B[38;5;241m=\u001B[39m \u001B[38;5;28mself\u001B[39m\u001B[38;5;241m.\u001B[39m_in_deferred_types(\u001B[38;5;28mcls\u001B[39m)\n",
      "File \u001B[0;32m~/PythonProject/malco/.venv/lib/python3.11/site-packages/IPython/lib/pretty.py:789\u001B[0m, in \u001B[0;36m_repr_pprint\u001B[0;34m(obj, p, cycle)\u001B[0m\n\u001B[1;32m    787\u001B[0m output \u001B[38;5;241m=\u001B[39m \u001B[38;5;28mrepr\u001B[39m(obj)\n\u001B[1;32m    788\u001B[0m lines \u001B[38;5;241m=\u001B[39m output\u001B[38;5;241m.\u001B[39msplitlines()\n\u001B[0;32m--> 789\u001B[0m \u001B[43m\u001B[49m\u001B[38;5;28;43;01mwith\u001B[39;49;00m\u001B[43m \u001B[49m\u001B[43mp\u001B[49m\u001B[38;5;241;43m.\u001B[39;49m\u001B[43mgroup\u001B[49m\u001B[43m(\u001B[49m\u001B[43m)\u001B[49m\u001B[43m:\u001B[49m\n\u001B[1;32m    790\u001B[0m \u001B[43m    \u001B[49m\u001B[38;5;28;43;01mfor\u001B[39;49;00m\u001B[43m \u001B[49m\u001B[43midx\u001B[49m\u001B[43m,\u001B[49m\u001B[43m \u001B[49m\u001B[43moutput_line\u001B[49m\u001B[43m \u001B[49m\u001B[38;5;129;43;01min\u001B[39;49;00m\u001B[43m \u001B[49m\u001B[38;5;28;43menumerate\u001B[39;49m\u001B[43m(\u001B[49m\u001B[43mlines\u001B[49m\u001B[43m)\u001B[49m\u001B[43m:\u001B[49m\n\u001B[1;32m    791\u001B[0m \u001B[43m        \u001B[49m\u001B[38;5;28;43;01mif\u001B[39;49;00m\u001B[43m \u001B[49m\u001B[43midx\u001B[49m\u001B[43m:\u001B[49m\n",
      "File \u001B[0;32m/opt/homebrew/Cellar/python@3.11/3.11.9/Frameworks/Python.framework/Versions/3.11/lib/python3.11/contextlib.py:137\u001B[0m, in \u001B[0;36m_GeneratorContextManager.__enter__\u001B[0;34m(self)\u001B[0m\n\u001B[1;32m    135\u001B[0m \u001B[38;5;28;01mdel\u001B[39;00m \u001B[38;5;28mself\u001B[39m\u001B[38;5;241m.\u001B[39margs, \u001B[38;5;28mself\u001B[39m\u001B[38;5;241m.\u001B[39mkwds, \u001B[38;5;28mself\u001B[39m\u001B[38;5;241m.\u001B[39mfunc\n\u001B[1;32m    136\u001B[0m \u001B[38;5;28;01mtry\u001B[39;00m:\n\u001B[0;32m--> 137\u001B[0m     \u001B[38;5;28;01mreturn\u001B[39;00m \u001B[38;5;28mnext\u001B[39m(\u001B[38;5;28mself\u001B[39m\u001B[38;5;241m.\u001B[39mgen)\n\u001B[1;32m    138\u001B[0m \u001B[38;5;28;01mexcept\u001B[39;00m \u001B[38;5;167;01mStopIteration\u001B[39;00m:\n\u001B[1;32m    139\u001B[0m     \u001B[38;5;28;01mraise\u001B[39;00m \u001B[38;5;167;01mRuntimeError\u001B[39;00m(\u001B[38;5;124m\"\u001B[39m\u001B[38;5;124mgenerator didn\u001B[39m\u001B[38;5;124m'\u001B[39m\u001B[38;5;124mt yield\u001B[39m\u001B[38;5;124m\"\u001B[39m) \u001B[38;5;28;01mfrom\u001B[39;00m \u001B[38;5;28mNone\u001B[39m\n",
      "File \u001B[0;32m~/PythonProject/malco/.venv/lib/python3.11/site-packages/IPython/lib/pretty.py:185\u001B[0m, in \u001B[0;36m_PrettyPrinterBase.group\u001B[0;34m(self, indent, open, close)\u001B[0m\n\u001B[1;32m    182\u001B[0m     \u001B[38;5;28;01mfinally\u001B[39;00m:\n\u001B[1;32m    183\u001B[0m         \u001B[38;5;28mself\u001B[39m\u001B[38;5;241m.\u001B[39mindentation \u001B[38;5;241m-\u001B[39m\u001B[38;5;241m=\u001B[39m indent\n\u001B[0;32m--> 185\u001B[0m \u001B[38;5;129m@contextmanager\u001B[39m\n\u001B[1;32m    186\u001B[0m \u001B[38;5;28;01mdef\u001B[39;00m \u001B[38;5;21mgroup\u001B[39m(\u001B[38;5;28mself\u001B[39m, indent\u001B[38;5;241m=\u001B[39m\u001B[38;5;241m0\u001B[39m, \u001B[38;5;28mopen\u001B[39m\u001B[38;5;241m=\u001B[39m\u001B[38;5;124m'\u001B[39m\u001B[38;5;124m'\u001B[39m, close\u001B[38;5;241m=\u001B[39m\u001B[38;5;124m'\u001B[39m\u001B[38;5;124m'\u001B[39m):\n\u001B[1;32m    187\u001B[0m \u001B[38;5;250m    \u001B[39m\u001B[38;5;124;03m\"\"\"like begin_group / end_group but for the with statement.\"\"\"\u001B[39;00m\n\u001B[1;32m    188\u001B[0m     \u001B[38;5;28mself\u001B[39m\u001B[38;5;241m.\u001B[39mbegin_group(indent, \u001B[38;5;28mopen\u001B[39m)\n",
      "\u001B[0;31mKeyboardInterrupt\u001B[0m: "
     ]
    }
   ],
   "source": [
    "# okay we need to go to considerable lengths to get the phenopacket file for each Exomiser result file\n",
    "\n",
    "# for each phenopacket file, find the corresponding exomiser results file\n",
    "# make a dict of phenopacket_id -> exomiser_results_file\n",
    "\n",
    "import os\n",
    "import glob\n",
    "from tqdm import tqdm\n",
    "from warnings import warn\n",
    "\n",
    "# Define the directories\n",
    "phenopacket_dir = \"../supplemental_data/phenopackets/\"\n",
    "exomiser_results_dir = \"../outputdir_all_2024_07_04/pheval_disease_results/\"\n",
    "\n",
    "# Get all result files\n",
    "result_files = glob.glob(os.path.join(exomiser_results_dir, \"*-pheval_disease_result.tsv\"))\n",
    "\n",
    "# Initialize the dictionary\n",
    "phenopacket2results = {}\n",
    "\n",
    "# Process each result file\n",
    "for result_file in tqdm(result_files):\n",
    "    # Get the base name of the result file (without extension and suffix)\n",
    "    base_name = os.path.basename(result_file).replace(\"-pheval_disease_result.tsv\", \"\")\n",
    "    \n",
    "    # Construct the pattern for matching prompt files\n",
    "    prompt_pattern = os.path.join(phenopacket_dir, f\"{base_name}.json\")\n",
    "    \n",
    "    # Find matching phenopacket files\n",
    "    matching_phenopackets = glob.glob(prompt_pattern)\n",
    "    \n",
    "    # Check if there's exactly one matching phenopacket file\n",
    "    if len(matching_phenopackets) == 1:\n",
    "        phenopacket2results[matching_phenopackets[0]] = result_file\n",
    "    elif len(matching_phenopackets) == 0:\n",
    "        warn(f\"No matching phenopacket_dir file found for {result_file}\")\n",
    "    else:\n",
    "        warn(f\"Multiple matching phenopacket_dir files found for {result_file}\")\n",
    "\n",
    "print(f\"Total mappings: {len(phenopacket2results)}\")\n",
    "\n",
    "phenopacket2results"
   ],
   "metadata": {
    "collapsed": false,
    "ExecuteTime": {
     "end_time": "2024-10-11T11:58:01.338733Z",
     "start_time": "2024-10-11T11:58:01.012183Z"
    }
   },
   "id": "a7faf22c4d6c7972"
  },
  {
   "cell_type": "code",
   "execution_count": null,
   "outputs": [],
   "source": [
    "import pandas as pd\n",
    "from google.protobuf.json_format import Parse\n",
    "from phenopackets import Phenopacket\n",
    "from statsmodels.stats.contingency_tables import mcnemar\n",
    "from tqdm import tqdm\n",
    "import os\n",
    "import glob\n",
    "import csv\n",
    "from warnings import warn\n",
    "\n",
    "# Initialize dictionaries to store pass/fail outcomes for each method (as lists of outcomes)\n",
    "exomiser_mondo_terms_pass_fail = {}\n",
    "o1_mondo_terms_pass_fail = {}\n",
    "\n",
    "# Function to safely append results to the ancestor dictionary\n",
    "def append_result(results_dict, ancestor, is_correct):\n",
    "    if ancestor not in results_dict:\n",
    "        results_dict[ancestor] = []\n",
    "    results_dict[ancestor].append(is_correct)\n",
    "\n",
    "# Step 1: Exomiser loop - Iterate over the phenopacket files and calculate Exomiser results\n",
    "for i, (phenopacket_file, exomiser_results_file) in tqdm(enumerate(phenopacket2results.items()),\n",
    "                                                         total=len(phenopacket2results),\n",
    "                                                         desc=\"Processing phenopackets for Exomiser\"):\n",
    "    # Parsing phenopackets from json\n",
    "    with open(phenopacket_file, 'r') as jsfile:\n",
    "        phenopacket = Parse(message=Phenopacket(), text=jsfile.read())\n",
    "        if len(phenopacket.diseases) > 1:\n",
    "            raise Exception(f\"Multiple diseases found in {phenopacket_file}\")\n",
    "        elif len(phenopacket.diseases) == 0:\n",
    "            raise Exception(f\"No diseases found in {phenopacket_file}\")\n",
    "        \n",
    "        # Get the disease ID (OMIM ID)\n",
    "        omim_id = phenopacket.diseases[0].term.id \n",
    "        omim_name = phenopacket.diseases[0].term.label\n",
    "        \n",
    "        # Get Mondo mappings for the disease\n",
    "        mondo_terms = mondo_mappings_for_omim(omim_id, adapter)\n",
    "        if len(mondo_terms) == 0:\n",
    "            raise Exception(f\"No Mondo mappings found for {omim_id}\")\n",
    "        elif len(mondo_terms) > 1:\n",
    "            raise Exception(f\"Multiple Mondo mappings found for {omim_id}\")\n",
    "        mondo_term = mondo_terms[0]\n",
    "        mondo_term_and_ancestors = get_ancestors(mondo_term)\n",
    "        \n",
    "        # Step 2: Check Exomiser results for the correct diagnosis\n",
    "        results = pd.read_csv(exomiser_results_file, sep=\"\\t\")\n",
    "        filtered_results = results[(results[\"rank\"] <= max_rank) & (results[\"is_correct\"] == True)]\n",
    "        \n",
    "        # Reality check - correct_ID should match omim_id\n",
    "        if len(filtered_results['correct_ID'].unique()) > 1:\n",
    "            assert(list(filtered_results['correct_ID'].unique())[0] == omim_id)\n",
    "        \n",
    "        # Check if the correct diagnosis is in the top 'max_rank' results\n",
    "        correct_in_top = len(filtered_results) > 0\n",
    "        \n",
    "        # Add pass/fail for Exomiser method to each ancestor (store as a list of outcomes)\n",
    "        for ancestor in mondo_term_and_ancestors:\n",
    "            append_result(exomiser_mondo_terms_pass_fail, ancestor, correct_in_top)\n",
    "\n",
    "    if i >= limit:\n",
    "        break\n",
    "\n",
    "# Step 2: o1 loop - Similar logic for o1 method\n",
    "# Directories for the results\n",
    "o1_dir = \"../outputdir_all_2024_07_04/gpt_o1_disease_results/\"\n",
    "\n",
    "# Load the correct answers TSV file into a dictionary\n",
    "correct_answers_dict = {}\n",
    "correct_answers_path = '../supplemental_data/correct_results.tsv'\n",
    "\n",
    "# Read the correct answers file\n",
    "with open(correct_answers_path, 'r', newline='') as tsvfile:\n",
    "    reader = csv.reader(tsvfile, delimiter='\\t')\n",
    "    for row in reader:\n",
    "        correct_disease_name = row[0]\n",
    "        correct_ID = row[1]\n",
    "        prompt_file_name = row[2]\n",
    "        correct_answers_dict[prompt_file_name] = (correct_ID, correct_disease_name)\n",
    "\n",
    "# Loop through correct answers and process o1 results\n",
    "for i, (prompt_file_name, correct_info) in tqdm(enumerate(correct_answers_dict.items()), total=len(correct_answers_dict), desc=\"Processing correct answers for o1\"):\n",
    "    # Find o1 result file\n",
    "    o1_results_file = glob.glob(os.path.join(o1_dir, prompt_file_name + '.tsv'))\n",
    "\n",
    "    # Ensure there's exactly one match\n",
    "    if len(o1_results_file) != 1:\n",
    "        raise Exception(f\"Expected 1 o1 result file for {prompt_file_name}, but found {len(o1_results_file)}.\")\n",
    "    else:\n",
    "        o1_results_file = o1_results_file[0]\n",
    "\n",
    "    omim_id = correct_answers_dict[prompt_file_name][0]\n",
    "    omim_label = correct_answers_dict[prompt_file_name][1]\n",
    "        \n",
    "    # Get Mondo mappings for the disease\n",
    "    mondo_terms = mondo_mappings_for_omim(omim_id, adapter)\n",
    "    if len(mondo_terms) == 0:\n",
    "        raise Exception(f\"No Mondo mappings found for {omim_id}\")\n",
    "    elif len(mondo_terms) > 1:\n",
    "        raise Exception(f\"Multiple Mondo mappings found for {omim_id}\")\n",
    "    mondo_term = mondo_terms[0]\n",
    "    mondo_term_and_ancestors = get_ancestors(mondo_term)\n",
    "        \n",
    "    # Step 4: Check o1 results\n",
    "    results = pd.read_csv(o1_results_file, sep=\"\\t\")\n",
    "    filtered_results = results[(results[\"rank\"] <= max_rank) & (results[\"is_correct\"] == True)]\n",
    "        \n",
    "    # Reality check - correct_ID should match omim_id\n",
    "    if len(filtered_results['correct_ID'].unique()) > 1:\n",
    "        assert(list(filtered_results['correct_ID'].unique())[0] == omim_id)\n",
    "    \n",
    "    # Check if the correct diagnosis is in the top 'max_rank' results\n",
    "    correct_in_top = len(filtered_results) > 0\n",
    "    \n",
    "    # Add pass/fail for o1 method to each ancestor (store as a list of outcomes)\n",
    "    for ancestor in mondo_term_and_ancestors:\n",
    "        append_result(o1_mondo_terms_pass_fail, ancestor, correct_in_top)\n",
    "\n",
    "    if i >= limit:\n",
    "        break"
   ],
   "metadata": {
    "collapsed": false,
    "ExecuteTime": {
     "start_time": "2024-10-11T11:58:01.337399Z"
    }
   },
   "id": "41fb202d6f123fe3"
  },
  {
   "cell_type": "code",
   "execution_count": null,
   "outputs": [],
   "source": [
    "# Step 3: Get the union of Mondo terms across Exomiser and o1\n",
    "all_mondo_terms = set(exomiser_mondo_terms_pass_fail.keys()).intersection(set(o1_mondo_terms_pass_fail.keys()))\n",
    "\n",
    "# Step 4: Perform McNemar's test for each Mondo term\n",
    "mcnemar_results = {}\n",
    "\n",
    "for mondo_term in all_mondo_terms:\n",
    "    # Collect pass/fail outcomes for Exomiser and o1 for this Mondo term\n",
    "    exomiser_outcomes = exomiser_mondo_terms_pass_fail.get(mondo_term, [])\n",
    "    o1_outcomes = o1_mondo_terms_pass_fail.get(mondo_term, [])\n",
    "\n",
    "    # # Ensure both lists are of the same length\n",
    "    if len(exomiser_outcomes) != len(o1_outcomes):\n",
    "        warn(f\"Length mismatch for {mondo_term}: Exomiser outcomes: {len(exomiser_outcomes)}, o1 outcomes: {len(o1_outcomes)}\")\n",
    "        continue\n",
    "    \n",
    "    # Create the contingency table for this Mondo term\n",
    "    contingency_table = pd.crosstab(pd.Series(o1_outcomes), pd.Series(exomiser_outcomes))\n",
    "\n",
    "    # Perform McNemar test\n",
    "    result = mcnemar(contingency_table)\n",
    "\n",
    "    # Store the result\n",
    "    mcnemar_results[mondo_term] = result.pvalue\n",
    "\n",
    "# Step 5: Display the McNemar's test results\n",
    "for mondo_term, pvalue in mcnemar_results.items():\n",
    "    # get the label for the mondo term\n",
    "    label = adapter.label(mondo_term)\n",
    "    print(f\"Mondo Term: {mondo_term} {label}, McNemar p-value: {pvalue}\")"
   ],
   "metadata": {
    "collapsed": false,
    "ExecuteTime": {
     "start_time": "2024-10-11T11:58:01.337996Z"
    }
   },
   "id": "3fb8a9ba0eb7682"
  }
 ],
 "metadata": {
  "kernelspec": {
   "display_name": "Python 3",
   "language": "python",
   "name": "python3"
  },
  "language_info": {
   "codemirror_mode": {
    "name": "ipython",
    "version": 2
   },
   "file_extension": ".py",
   "mimetype": "text/x-python",
   "name": "python",
   "nbconvert_exporter": "python",
   "pygments_lexer": "ipython2",
   "version": "2.7.6"
  }
 },
 "nbformat": 4,
 "nbformat_minor": 5
}
